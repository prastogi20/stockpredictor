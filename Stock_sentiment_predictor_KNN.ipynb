{
 "cells": [
  {
   "cell_type": "code",
   "execution_count": null,
   "id": "b058cd8c-ace3-465e-9b93-1a0ea9b34e70",
   "metadata": {},
   "outputs": [],
   "source": [
    "import pandas as pd\n",
    "import re\n",
    "import pandas_datareader as dr\n",
    "\n",
    "from sklearn.model_selection import cross_val_score,train_test_split\n",
    "from sklearn.neighbors import KNeighborsClassifier\n",
    "from sklearn.preprocessing import StandardScaler\n",
    "from sklearn.metrics import classification_report\n",
    "%store -r"
   ]
  },
  {
   "cell_type": "code",
   "execution_count": null,
   "id": "ccd96970-f7fb-497e-95d8-cae4d5b30799",
   "metadata": {},
   "outputs": [],
   "source": [
    "# %run PrepareData.ipynb\n",
    "%run Stock_direction_predictor_RF.ipynb"
   ]
  },
  {
   "cell_type": "code",
   "execution_count": null,
   "id": "63a265c8-183a-4ab6-ad4a-ce61a3f2330b",
   "metadata": {},
   "outputs": [],
   "source": [
    "tsla_df = df.copy()\n",
    "df.plot(y=\"close_value\")\n",
    "# display(tsla_df.head())\n",
    "# display(tsla_df.tail())"
   ]
  },
  {
   "cell_type": "code",
   "execution_count": null,
   "id": "115db60f-d3ab-4dc8-9dee-ea90b3674e9c",
   "metadata": {},
   "outputs": [],
   "source": [
    "# def get_training_testing_data(dataframe,random=False,test_size=.25):\n",
    "#     if(random):\n",
    "#         # Split the dataset using train_test_split\n",
    "#         X_train, X_test, y_train, y_test = train_test_split(X, y,test_size=test_size,random_state=1)\n",
    "#     else:\n",
    "        \n",
    "            "
   ]
  },
  {
   "cell_type": "code",
   "execution_count": null,
   "id": "0c110e08-b886-4342-9cab-ca73ea3fb853",
   "metadata": {},
   "outputs": [],
   "source": [
    "train_data_size = int (len(tsla_df) * .7)\n",
    "test_data_size = len(tsla_df) - train_data_size\n",
    "\n",
    "y = tsla_df[\"price_direction\"]\n",
    "X = tsla_df.drop([\"price_direction\"],axis=1)"
   ]
  },
  {
   "cell_type": "code",
   "execution_count": null,
   "id": "942362e7-4975-4ed3-8288-34e42a3b921a",
   "metadata": {},
   "outputs": [],
   "source": [
    "train_start = X.index.min()\n",
    "train_end = X.index.min() + DateOffset(days=train_data_size)\n",
    "X_train = X.loc[train_start:train_end]\n",
    "y_train = y.loc[train_start:train_end]\n",
    "display(X_train.info())"
   ]
  },
  {
   "cell_type": "code",
   "execution_count": null,
   "id": "0501691b-40d2-470c-af93-b6dffac8c77f",
   "metadata": {},
   "outputs": [],
   "source": [
    "test_start = train_end + DateOffset(days=1)\n",
    "X_test = X.loc[test_start:]\n",
    "y_test = y.loc[test_start:]\n",
    "display(X_test.info())"
   ]
  },
  {
   "cell_type": "code",
   "execution_count": null,
   "id": "3f131ee9-c696-4fa1-8bfa-d5c103c4dc30",
   "metadata": {},
   "outputs": [],
   "source": [
    "# Split the dataset using train_test_split\n",
    "# X_train, X_test, y_train, y_test = train_test_split(X, y, random_state=1)"
   ]
  },
  {
   "cell_type": "code",
   "execution_count": null,
   "id": "04adc716-c22d-4066-8dc5-19002e701053",
   "metadata": {},
   "outputs": [],
   "source": [
    "scaler = StandardScaler()\n",
    "\n",
    "# Fitting Standard Scaler\n",
    "X_scaler = scaler.fit(X_train)\n",
    "\n",
    "# Scaling data\n",
    "X_train_scaled = X_scaler.transform(X_train)\n",
    "X_test_scaled = X_scaler.transform(X_test)\n",
    "\n",
    "display(X_test_scaled)"
   ]
  },
  {
   "cell_type": "code",
   "execution_count": null,
   "id": "fe712309-73be-4610-adf9-bd0d149e6a43",
   "metadata": {},
   "outputs": [],
   "source": [
    "# find optimal value of neighbors, by evaluating accuracy score by cross validation method\n",
    "k_neighbors = [num for num in range(1,50,2)]\n",
    "\n",
    "k_acc_scores = []\n",
    "\n",
    "for k in k_neighbors:\n",
    "    knn = KNeighborsClassifier(n_neighbors=k)\n",
    "    cv_scores = cross_val_score(knn, X_train_scaled,y_train,cv=5, scoring=\"accuracy\")\n",
    "    k_acc_scores.append(cv_scores.mean())\n",
    "\n",
    "optimal_k_neighbors = k_neighbors[k_acc_scores.index(max(k_acc_scores))]"
   ]
  },
  {
   "cell_type": "code",
   "execution_count": null,
   "id": "8015cc2d-bb08-4e67-8744-9da4b49b9cfe",
   "metadata": {},
   "outputs": [],
   "source": [
    "knn_model = KNeighborsClassifier(n_neighbors=optimal_k_neighbors)\n",
    "# Train model using training data\n",
    "knn_model.fit(X_train_scaled, y_train)"
   ]
  },
  {
   "cell_type": "code",
   "execution_count": null,
   "id": "82cf8a74-eee2-454d-9631-e328f18bdf2b",
   "metadata": {},
   "outputs": [],
   "source": [
    "# Create predictions using the testing data\n",
    "y_pred = knn_model.predict(X_test_scaled)\n",
    "print(y_pred)\n",
    "print(y_test)"
   ]
  },
  {
   "cell_type": "code",
   "execution_count": null,
   "id": "695d1f4b-1b85-492d-9c7f-50ad9d342d0e",
   "metadata": {},
   "outputs": [],
   "source": [
    "# Print the classification report comparing the testing data to the model predictions\n",
    "print(classification_report(y_test, y_pred))"
   ]
  }
 ],
 "metadata": {
  "kernelspec": {
   "display_name": "Python 3.9 (tensorflow)",
   "language": "python",
   "name": "tensorflow"
  },
  "language_info": {
   "codemirror_mode": {
    "name": "ipython",
    "version": 3
   },
   "file_extension": ".py",
   "mimetype": "text/x-python",
   "name": "python",
   "nbconvert_exporter": "python",
   "pygments_lexer": "ipython3",
   "version": "3.9.13"
  }
 },
 "nbformat": 4,
 "nbformat_minor": 5
}
