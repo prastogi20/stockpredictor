{
 "cells": [
  {
   "cell_type": "markdown",
   "id": "517ca9f1-13e7-43d0-9901-8d34dd2e593d",
   "metadata": {
    "tags": []
   },
   "source": [
    "# PrepareData.ipynb\n",
    "\n",
    "## Read data from downloaded csv files and create dataframes.\n",
    "\n",
    "NOTE: Company_Tweet.csv & Tweet.csv are very large data files could not upload them in git as account limit is max 100MB per file\n",
    "\n",
    "Below are the steps followed to read data and store dataframes:\n",
    "* To run this code download Resources Company_Tweet.csv & Tweet.csv from kaggle link https://www.kaggle.com/code/saadusama/twitter-s-impact-on-stock-market-prices/data and copy them in Resources folder\n",
    "* Read tickers data from Resources/CompanyValues.csv, filter Tesla stock data and store it in a dataframe\n",
    "* Read Twitter data from Company_Tweet.csv & Tweet.csv, filter tweets for Tesla and store in a dataframe"
   ]
  },
  {
   "cell_type": "markdown",
   "id": "28a6e421-b2cd-47c7-b62f-dca503a98ace",
   "metadata": {},
   "source": [
    "### Necessary imports"
   ]
  },
  {
   "cell_type": "code",
   "execution_count": null,
   "id": "6d309891-0beb-498f-9787-038e89928f19",
   "metadata": {},
   "outputs": [],
   "source": [
    "import pandas as pd\n",
    "from pathlib import Path\n",
    "from datetime import datetime"
   ]
  },
  {
   "cell_type": "markdown",
   "id": "6100fd53-f778-4d45-aca7-4266c2865d8e",
   "metadata": {},
   "source": [
    "### Read Ticker data\n",
    "* Read stock data from Resources/CompanyValues.csv\n",
    "* Filter dataframe to store only TSLA data\n",
    "* Drop ticker_symbol column as it is not required anymore\n",
    "* set index to day_date\n",
    "* Review DataFrame"
   ]
  },
  {
   "cell_type": "code",
   "execution_count": null,
   "id": "3efb248a-0694-4cad-91b8-f7085db08995",
   "metadata": {},
   "outputs": [],
   "source": [
    "market_df = pd.read_csv(Path(\"Resources/CompanyValues.csv\"))\n",
    "tsla_stock_values_df = market_df[market_df[\"ticker_symbol\"] == \"TSLA\"]\n",
    "tsla_stock_values_df = tsla_stock_values_df.drop([\"ticker_symbol\"],axis=1)\n",
    "tsla_stock_values_df.set_index(\"day_date\",inplace=True)\n",
    "tsla_stock_values_df.head()"
   ]
  },
  {
   "cell_type": "markdown",
   "id": "b5e4c447-90cb-4004-afb0-afee1c6f7334",
   "metadata": {},
   "source": [
    "### Read Twitter Data and prepare one DataFrame for TSLA tweets\n",
    "* Read Tweets from Resources/Tweet.csv and review dataframe\n",
    "* Read Resources/Company_Tweet.csv, to find tweets relevant for TSLA, and review dataframe\n",
    "* Merge both dataframes on tweet_id to get the consolidated tweet data for TSLA\n",
    "* Review merged dataframe\n",
    "* Convert post_date to Datetime format"
   ]
  },
  {
   "cell_type": "code",
   "execution_count": null,
   "id": "3000b746-3089-4577-9d65-1e0daabf8e6f",
   "metadata": {},
   "outputs": [],
   "source": [
    "tweets_df = pd.read_csv(Path(\"Resources/Tweet.csv\"))\n",
    "display(tweets_df.head())\n",
    "display(tweets_df.shape)"
   ]
  },
  {
   "cell_type": "code",
   "execution_count": null,
   "id": "e07e21e5-e0c0-4472-a3fb-778734049446",
   "metadata": {},
   "outputs": [],
   "source": [
    "company_tweets_df = pd.read_csv(Path(\"Resources/Company_Tweet.csv\"))\n",
    "display(company_tweets_df.head())\n",
    "display(company_tweets_df.shape)"
   ]
  },
  {
   "cell_type": "code",
   "execution_count": null,
   "id": "3d624a4a-c8b5-43ad-985b-e06f811419bb",
   "metadata": {},
   "outputs": [],
   "source": [
    "tsla_tweets_df = company_tweets_df[company_tweets_df[\"ticker_symbol\"] == \"TSLA\"]\n",
    "display(tsla_tweets_df.head())\n",
    "display(tsla_tweets_df.shape)"
   ]
  },
  {
   "cell_type": "code",
   "execution_count": null,
   "id": "7fa85874-be90-48bd-a7ab-2718b331fdf2",
   "metadata": {},
   "outputs": [],
   "source": [
    "tsla_tweets_df = pd.merge(tsla_tweets_df,tweets_df,on=\"tweet_id\")\n",
    "display(tsla_tweets_df.head())\n",
    "display(tsla_tweets_df.tail())"
   ]
  },
  {
   "cell_type": "code",
   "execution_count": null,
   "id": "2b148189-59da-41c4-a4d9-84cbf1ae6af5",
   "metadata": {},
   "outputs": [],
   "source": [
    "tsla_tweets_df.info()\n",
    "tsla_tweets_df.shape"
   ]
  },
  {
   "cell_type": "code",
   "execution_count": null,
   "id": "14513e8c-71df-40f9-8f67-e71238225476",
   "metadata": {},
   "outputs": [],
   "source": [
    "# tsla_tweets_df = tsla_tweets_df[tsla_tweets_df[\"retweet_num\"] > 0]\n",
    "tsla_tweets_df[\"total_engagement\"] = tsla_tweets_df[\"comment_num\"] + tsla_tweets_df[\"retweet_num\"] + tsla_tweets_df[\"like_num\"]\n",
    "tsla_tweets_df = tsla_tweets_df[tsla_tweets_df[\"total_engagement\"] > 2]\n",
    "tsla_tweets_df.shape"
   ]
  },
  {
   "cell_type": "code",
   "execution_count": null,
   "id": "bf34180e-36d6-410a-81be-bfb0c2b10fd0",
   "metadata": {},
   "outputs": [],
   "source": [
    "tsla_tweets_df.post_date=tsla_tweets_df.post_date.apply(lambda z:datetime.fromtimestamp(z))\n",
    "tsla_tweets_df.head()"
   ]
  },
  {
   "cell_type": "code",
   "execution_count": null,
   "id": "260bee14-8a54-4645-8b15-97681fe08cde",
   "metadata": {},
   "outputs": [],
   "source": [
    "tsla_tweets_df.to_csv(\"Resources/tsla_tweets.csv\")"
   ]
  },
  {
   "cell_type": "markdown",
   "id": "4272b98b-c278-4ff1-8d34-646ed129b65d",
   "metadata": {},
   "source": [
    "### Store dataframes in IPython's Database\n",
    "This will help reuse the dataframes, without repeating the code.\n",
    "* %store - stores variables, aliases and macros in IPython’s database.\n",
    "* store TSLA tweets dataframe and stock market data in IPython's database"
   ]
  },
  {
   "cell_type": "code",
   "execution_count": null,
   "id": "1aff4694-66c8-4721-9be5-a183ca148811",
   "metadata": {},
   "outputs": [],
   "source": [
    "%store tsla_tweets_df\n",
    "%store tsla_stock_values_df"
   ]
  },
  {
   "cell_type": "code",
   "execution_count": null,
   "id": "d7d13946-ef93-4c02-8980-f627ed70c3db",
   "metadata": {},
   "outputs": [],
   "source": []
  }
 ],
 "metadata": {
  "kernelspec": {
   "display_name": "Python 3.9 (tensorflow)",
   "language": "python",
   "name": "tensorflow"
  },
  "language_info": {
   "codemirror_mode": {
    "name": "ipython",
    "version": 3
   },
   "file_extension": ".py",
   "mimetype": "text/x-python",
   "name": "python",
   "nbconvert_exporter": "python",
   "pygments_lexer": "ipython3",
   "version": "3.9.13"
  }
 },
 "nbformat": 4,
 "nbformat_minor": 5
}
