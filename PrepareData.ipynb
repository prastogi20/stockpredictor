{
 "cells": [
  {
   "cell_type": "markdown",
   "id": "517ca9f1-13e7-43d0-9901-8d34dd2e593d",
   "metadata": {
    "tags": []
   },
   "source": [
    "# PrepareData.ipynb\n",
    "\n",
    "## Read data from downloaded csv files and create dataframes.\n",
    "\n",
    "NOTE: Company_Tweet.csv & Tweet.csv are very large data files could not upload them in git as account limit is max 100MB per file\n",
    "\n",
    "Below are the steps followed to read data and store dataframes:\n",
    "* To run this code download Resources Company_Tweet.csv & Tweet.csv from kaggle link https://www.kaggle.com/code/saadusama/twitter-s-impact-on-stock-market-prices/data and copy them in Resources folder\n",
    "* Read tickers data from Resources/CompanyValues.csv, filter Tesla stock data and store it in a dataframe\n",
    "* Read Twitter data from Company_Tweet.csv & Tweet.csv, filter tweets for Tesla and store in a dataframe"
   ]
  },
  {
   "cell_type": "markdown",
   "id": "28a6e421-b2cd-47c7-b62f-dca503a98ace",
   "metadata": {},
   "source": [
    "### Necessary imports"
   ]
  },
  {
   "cell_type": "code",
   "execution_count": 2,
   "id": "6d309891-0beb-498f-9787-038e89928f19",
   "metadata": {},
   "outputs": [],
   "source": [
    "import pandas as pd\n",
    "from pathlib import Path\n",
    "from datetime import datetime\n",
    "import pandas_ta as ta"
   ]
  },
  {
   "cell_type": "markdown",
   "id": "6100fd53-f778-4d45-aca7-4266c2865d8e",
   "metadata": {},
   "source": [
    "### Read Ticker data\n",
    "* Read stock data from Resources/CompanyValues.csv\n",
    "* Filter dataframe to store only TSLA data\n",
    "* Drop ticker_symbol column as it is not required anymore\n",
    "* set index to day_date\n",
    "* Review DataFrame"
   ]
  },
  {
   "cell_type": "code",
   "execution_count": 7,
   "id": "3efb248a-0694-4cad-91b8-f7085db08995",
   "metadata": {},
   "outputs": [
    {
     "data": {
      "text/html": [
       "<div>\n",
       "<style scoped>\n",
       "    .dataframe tbody tr th:only-of-type {\n",
       "        vertical-align: middle;\n",
       "    }\n",
       "\n",
       "    .dataframe tbody tr th {\n",
       "        vertical-align: top;\n",
       "    }\n",
       "\n",
       "    .dataframe thead th {\n",
       "        text-align: right;\n",
       "    }\n",
       "</style>\n",
       "<table border=\"1\" class=\"dataframe\">\n",
       "  <thead>\n",
       "    <tr style=\"text-align: right;\">\n",
       "      <th></th>\n",
       "      <th>high_value</th>\n",
       "      <th>low_value</th>\n",
       "      <th>open_value</th>\n",
       "      <th>close_value</th>\n",
       "      <th>volume</th>\n",
       "      <th>Adj Close</th>\n",
       "    </tr>\n",
       "    <tr>\n",
       "      <th>Date</th>\n",
       "      <th></th>\n",
       "      <th></th>\n",
       "      <th></th>\n",
       "      <th></th>\n",
       "      <th></th>\n",
       "      <th></th>\n",
       "    </tr>\n",
       "  </thead>\n",
       "  <tbody>\n",
       "    <tr>\n",
       "      <th>2015-01-02</th>\n",
       "      <td>14.883333</td>\n",
       "      <td>14.217333</td>\n",
       "      <td>14.858000</td>\n",
       "      <td>14.620667</td>\n",
       "      <td>71466000</td>\n",
       "      <td>14.620667</td>\n",
       "    </tr>\n",
       "    <tr>\n",
       "      <th>2015-01-05</th>\n",
       "      <td>14.433333</td>\n",
       "      <td>13.810667</td>\n",
       "      <td>14.303333</td>\n",
       "      <td>14.006000</td>\n",
       "      <td>80527500</td>\n",
       "      <td>14.006000</td>\n",
       "    </tr>\n",
       "    <tr>\n",
       "      <th>2015-01-06</th>\n",
       "      <td>14.280000</td>\n",
       "      <td>13.614000</td>\n",
       "      <td>14.004000</td>\n",
       "      <td>14.085333</td>\n",
       "      <td>93928500</td>\n",
       "      <td>14.085333</td>\n",
       "    </tr>\n",
       "    <tr>\n",
       "      <th>2015-01-07</th>\n",
       "      <td>14.318667</td>\n",
       "      <td>13.985333</td>\n",
       "      <td>14.223333</td>\n",
       "      <td>14.063333</td>\n",
       "      <td>44526000</td>\n",
       "      <td>14.063333</td>\n",
       "    </tr>\n",
       "    <tr>\n",
       "      <th>2015-01-08</th>\n",
       "      <td>14.253333</td>\n",
       "      <td>14.000667</td>\n",
       "      <td>14.187333</td>\n",
       "      <td>14.041333</td>\n",
       "      <td>51637500</td>\n",
       "      <td>14.041333</td>\n",
       "    </tr>\n",
       "  </tbody>\n",
       "</table>\n",
       "</div>"
      ],
      "text/plain": [
       "            high_value  low_value  open_value  close_value    volume  \\\n",
       "Date                                                                   \n",
       "2015-01-02   14.883333  14.217333   14.858000    14.620667  71466000   \n",
       "2015-01-05   14.433333  13.810667   14.303333    14.006000  80527500   \n",
       "2015-01-06   14.280000  13.614000   14.004000    14.085333  93928500   \n",
       "2015-01-07   14.318667  13.985333   14.223333    14.063333  44526000   \n",
       "2015-01-08   14.253333  14.000667   14.187333    14.041333  51637500   \n",
       "\n",
       "            Adj Close  \n",
       "Date                   \n",
       "2015-01-02  14.620667  \n",
       "2015-01-05  14.006000  \n",
       "2015-01-06  14.085333  \n",
       "2015-01-07  14.063333  \n",
       "2015-01-08  14.041333  "
      ]
     },
     "execution_count": 7,
     "metadata": {},
     "output_type": "execute_result"
    }
   ],
   "source": [
    "# NOTE: Discovered during analysis that the data downloaded from Kaggle seems to be different from the data available on Web, \n",
    "# it seems data in kaggle is pre-processed before saving, hence downloaded stock data using GOOGLEFINANCE function and saved in TSLA.csv\n",
    "\n",
    "# market_df = pd.read_csv(Path('./Resources/CompanyValues.csv'), index_col='day_date', parse_dates=True, infer_datetime_format=True)\n",
    "# tsla_stock_values_df = market_df[market_df[\"ticker_symbol\"] == \"TSLA\"].dropna()\n",
    "# tsla_stock_values_df = tsla_stock_values_df.drop([\"ticker_symbol\"],axis=1)\n",
    "\n",
    "tsla_stock_values_df = pd.read_csv(Path('./Resources/TSLA.csv'), index_col='Date', parse_dates=True, infer_datetime_format=True)\n",
    "\n",
    "# renaming columns so that existing code is not impacted\n",
    "tsla_stock_values_df.rename({\"Date\": \"day_value\", \"High\": \"high_value\",\n",
    "                                       \"Low\":\"low_value\", \"Open\":\"open_value\",\n",
    "                                       \"Close\":\"close_value\",\n",
    "                                       \"Volume\":\"volume\"},axis=1)\n",
    "tsla_stock_values_df = tsla_stock_values_df.sort_index()\n",
    "tsla_stock_values_df = tsla_stock_values_df.loc['2015-01-01':]\n",
    "# tsla_stock_values_df.head()"
   ]
  },
  {
   "cell_type": "markdown",
   "id": "b5e4c447-90cb-4004-afb0-afee1c6f7334",
   "metadata": {},
   "source": [
    "### Read Twitter Data and prepare one DataFrame for TSLA tweets\n",
    "* Read Tweets from Resources/Tweet.csv and review dataframe\n",
    "* Read Resources/Company_Tweet.csv, to find tweets relevant for TSLA, and review dataframe\n",
    "* Merge both dataframes on tweet_id to get the consolidated tweet data for TSLA\n",
    "* Review merged dataframe\n",
    "* Convert post_date to Datetime format"
   ]
  },
  {
   "cell_type": "code",
   "execution_count": null,
   "id": "3000b746-3089-4577-9d65-1e0daabf8e6f",
   "metadata": {},
   "outputs": [],
   "source": [
    "# Read tweets & company_twee data from csv\n",
    "tweets_df = pd.read_csv(Path(\"Resources/Tweet.csv\"))\n",
    "company_tweets_df = pd.read_csv(Path(\"Resources/Company_Tweet.csv\"))\n",
    "\n",
    "# Filter TSLA tweets\n",
    "tsla_tweets_df = company_tweets_df[company_tweets_df[\"ticker_symbol\"] == \"TSLA\"]\n",
    "tsla_tweets_df = pd.merge(tsla_tweets_df,tweets_df,on=\"tweet_id\")\n",
    "\n",
    "# Compute total_engagement for a tweet, and filter tweets that have total_engagement > 2\n",
    "# If we take total_engagment > 3 or more we are losing day data, hence for better training models kept a threshold of 2\n",
    "tsla_tweets_df[\"total_engagement\"] = tsla_tweets_df[\"comment_num\"] + tsla_tweets_df[\"retweet_num\"] + tsla_tweets_df[\"like_num\"]\n",
    "tsla_tweets_df = tsla_tweets_df[tsla_tweets_df[\"total_engagement\"] > 2]\n",
    "\n",
    "# Convert post_date from int64 to datetime type\n",
    "tsla_tweets_df.post_date=tsla_tweets_df.post_date.apply(lambda z:datetime.fromtimestamp(z))"
   ]
  },
  {
   "cell_type": "markdown",
   "id": "4272b98b-c278-4ff1-8d34-646ed129b65d",
   "metadata": {},
   "source": [
    "### Store dataframes in IPython's Database\n",
    "This will help reuse the data, without repeating the code.\n",
    "* %store - stores variables, aliases and macros in IPython’s database.\n",
    "* store TSLA tweets dataframe and stock market data in IPython's database\n",
    "* Run Sentiment Analysis and store results in IPython's database"
   ]
  },
  {
   "cell_type": "code",
   "execution_count": null,
   "id": "5626c592-b727-49a6-83da-4de9d907bec8",
   "metadata": {},
   "outputs": [],
   "source": [
    "# Prepare stock dataframe with Technical Indicatoras\n",
    "\n",
    "ta_df = tsla_stock_values_df.copy()\n",
    "\n",
    "#Create daily_return column\n",
    "ta_df['daily_return']= ta_df['close_value'].pct_change()\n",
    "\n",
    "#Set up new column 'price_direction', where 0 if 'daily_return' < 0, \n",
    "#and 1 if 'daily_return' > 0. \n",
    "ta_df['price_direction']= 0\n",
    "ta_df.loc[ta_df['daily_return'] >= 0, 'price_direction'] =1\n",
    "\n",
    "# Calculate MACD values using the pandas_ta library\n",
    "ta_df.ta.macd(close='close_value', fast=12, slow=26, signal=9, append=True)\n",
    "\n",
    "# Calculate High-Low Percentage values using the pandas_ta library\n",
    "ta_df['HL_PCT'] = (ta_df['high_value'] - ta_df['low_value']) / ta_df['close_value'] * 100.0\n",
    "\n",
    "# Calculate RSI values using the pandas_ta library\n",
    "ta_df['RSI'] = ta_df.ta.rsi(close= 'close_value', length= 14, scalar= 100)\n",
    "\n",
    "# Calculate VPT values using the pandas_ta library\n",
    "ta_df['PVT'] = ta_df.ta.pvt(close= 'close_value',volume= 'volume',drift= 1)\n",
    "\n",
    "# Clean Nan\n",
    "ta_df= ta_df.dropna()\n",
    "\n",
    "ta_df=ta_df.drop(['daily_return','volume','open_value','high_value','low_value'],\n",
    "           axis=1)\n",
    "ta_df.head()\n"
   ]
  },
  {
   "cell_type": "code",
   "execution_count": null,
   "id": "1aff4694-66c8-4721-9be5-a183ca148811",
   "metadata": {},
   "outputs": [],
   "source": [
    "# save filtered tweets data\n",
    "%store tsla_tweets_df\n",
    "\n",
    "# save stock data read from web\n",
    "%store tsla_stock_values_df\n",
    "\n",
    "# store technical indicators data frame\n",
    "# technical indicators are computed based on available data - these bascially forms the features matrix(X) for machine learning model\n",
    "%store ta_df"
   ]
  },
  {
   "cell_type": "code",
   "execution_count": null,
   "id": "d7d13946-ef93-4c02-8980-f627ed70c3db",
   "metadata": {},
   "outputs": [],
   "source": [
    "# run SentimentAnalysis.ipynb, this notebook contains code for calculating polarity based on tweets using VaderSentiment Analysis, \n",
    "# the result of the analysis is stored dataframe tsla_sentiments_df\n",
    "%run SentimentAnalysis.ipynb\n",
    "\n",
    "# run Textblob_SA.ipynb, this notebook contains code to analyse tweets using TextBlobs\n",
    "# the result of the analysis is stored dataframe tsla_sentiments_df_textblob\n",
    "%run Textblob_SA.ipynb"
   ]
  }
 ],
 "metadata": {
  "kernelspec": {
   "display_name": "Python 3.9 (tensorflow)",
   "language": "python",
   "name": "tensorflow"
  },
  "language_info": {
   "codemirror_mode": {
    "name": "ipython",
    "version": 3
   },
   "file_extension": ".py",
   "mimetype": "text/x-python",
   "name": "python",
   "nbconvert_exporter": "python",
   "pygments_lexer": "ipython3",
   "version": "3.9.13"
  },
  "widgets": {
   "application/vnd.jupyter.widget-state+json": {
    "state": {},
    "version_major": 2,
    "version_minor": 0
   }
  }
 },
 "nbformat": 4,
 "nbformat_minor": 5
}
