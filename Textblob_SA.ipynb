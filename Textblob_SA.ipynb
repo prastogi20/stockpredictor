{
 "cells": [
  {
   "cell_type": "code",
   "execution_count": 1,
   "id": "32f5997c",
   "metadata": {},
   "outputs": [],
   "source": [
    "# Import the necessary libraries\n",
    "import pandas as pd\n",
    "from pathlib import Path\n",
    "from textblob import TextBlob\n",
    "import re\n",
    "\n",
    "%store -r"
   ]
  },
  {
   "cell_type": "code",
   "execution_count": 2,
   "id": "ec41b189",
   "metadata": {},
   "outputs": [
    {
     "name": "stdout",
     "output_type": "stream",
     "text": [
      "Stored 'tsla_tweets_df' (DataFrame)\n",
      "Stored 'tsla_stock_values_df' (DataFrame)\n",
      "Stored 'ta_df' (DataFrame)\n",
      "Stored 'tsla_sentiments_df' (DataFrame)\n"
     ]
    }
   ],
   "source": [
    "# Import the restored data\n",
    "# %run PrepareData.ipynb"
   ]
  },
  {
   "cell_type": "code",
   "execution_count": 3,
   "id": "abb971e0",
   "metadata": {},
   "outputs": [],
   "source": [
    "# Reset the index of the dataframe\n",
    "df = tsla_tweets_df.copy()\n",
    "df = df.reset_index()"
   ]
  },
  {
   "cell_type": "code",
   "execution_count": 4,
   "id": "b853f4c3",
   "metadata": {},
   "outputs": [],
   "source": [
    "# Clean the text\n",
    "def cleanTxt(text):\n",
    "    text = re.sub(r'@[A-Za-z0-9]+', '', text)#Remove @mentions\n",
    "    text = re.sub(r'#', '', text)# Remove '#' hash tag\n",
    "    text = re.sub(r'RT[\\s]+', '', text)# Remove RT\n",
    "    text = re.sub(r'http?:\\/\\/\\S+', '', text)# Remove hyperlink\n",
    "    text = re.sub(r'\\$[A-Za-z0-9]+', '', text)# Remove $\n",
    "    text = re.sub(r'https?:\\/\\/\\S+', '', text)# Remove hyperlink\n",
    "    \n",
    "    return text\n",
    "\n",
    "df['body'] = df['body'].apply(cleanTxt)"
   ]
  },
  {
   "cell_type": "code",
   "execution_count": 5,
   "id": "df2b2469",
   "metadata": {},
   "outputs": [],
   "source": [
    "# Creaet a function to get the subjectivity\n",
    "def getSubjectivity(text):\n",
    "    return TextBlob(text).sentiment.subjectivity\n",
    "\n",
    "def getPolarity(text):\n",
    "    return TextBlob(text).sentiment.polarity"
   ]
  },
  {
   "cell_type": "code",
   "execution_count": 6,
   "id": "02c2cd16",
   "metadata": {},
   "outputs": [],
   "source": [
    "# Apply the models to the cleaned data\n",
    "df['Subjectivity'] = df['body'].apply(getSubjectivity)\n",
    "df['Polarity'] = df['body'].apply(getPolarity)"
   ]
  },
  {
   "cell_type": "code",
   "execution_count": 8,
   "id": "7e69be83",
   "metadata": {},
   "outputs": [
    {
     "data": {
      "text/html": [
       "<div>\n",
       "<style scoped>\n",
       "    .dataframe tbody tr th:only-of-type {\n",
       "        vertical-align: middle;\n",
       "    }\n",
       "\n",
       "    .dataframe tbody tr th {\n",
       "        vertical-align: top;\n",
       "    }\n",
       "\n",
       "    .dataframe thead th {\n",
       "        text-align: right;\n",
       "    }\n",
       "</style>\n",
       "<table border=\"1\" class=\"dataframe\">\n",
       "  <thead>\n",
       "    <tr style=\"text-align: right;\">\n",
       "      <th></th>\n",
       "      <th>Subjectivity</th>\n",
       "      <th>Polarity</th>\n",
       "    </tr>\n",
       "    <tr>\n",
       "      <th>Date</th>\n",
       "      <th></th>\n",
       "      <th></th>\n",
       "    </tr>\n",
       "  </thead>\n",
       "  <tbody>\n",
       "    <tr>\n",
       "      <th>2015-01-01</th>\n",
       "      <td>0.400000</td>\n",
       "      <td>-0.150000</td>\n",
       "    </tr>\n",
       "    <tr>\n",
       "      <th>2015-01-02</th>\n",
       "      <td>0.406539</td>\n",
       "      <td>0.180581</td>\n",
       "    </tr>\n",
       "    <tr>\n",
       "      <th>2015-01-03</th>\n",
       "      <td>0.210845</td>\n",
       "      <td>0.046556</td>\n",
       "    </tr>\n",
       "    <tr>\n",
       "      <th>2015-01-04</th>\n",
       "      <td>0.201275</td>\n",
       "      <td>0.076732</td>\n",
       "    </tr>\n",
       "    <tr>\n",
       "      <th>2015-01-05</th>\n",
       "      <td>0.078016</td>\n",
       "      <td>0.031528</td>\n",
       "    </tr>\n",
       "  </tbody>\n",
       "</table>\n",
       "</div>"
      ],
      "text/plain": [
       "            Subjectivity  Polarity\n",
       "Date                              \n",
       "2015-01-01      0.400000 -0.150000\n",
       "2015-01-02      0.406539  0.180581\n",
       "2015-01-03      0.210845  0.046556\n",
       "2015-01-04      0.201275  0.076732\n",
       "2015-01-05      0.078016  0.031528"
      ]
     },
     "metadata": {},
     "output_type": "display_data"
    },
    {
     "data": {
      "text/html": [
       "<div>\n",
       "<style scoped>\n",
       "    .dataframe tbody tr th:only-of-type {\n",
       "        vertical-align: middle;\n",
       "    }\n",
       "\n",
       "    .dataframe tbody tr th {\n",
       "        vertical-align: top;\n",
       "    }\n",
       "\n",
       "    .dataframe thead th {\n",
       "        text-align: right;\n",
       "    }\n",
       "</style>\n",
       "<table border=\"1\" class=\"dataframe\">\n",
       "  <thead>\n",
       "    <tr style=\"text-align: right;\">\n",
       "      <th></th>\n",
       "      <th>Subjectivity</th>\n",
       "      <th>Polarity</th>\n",
       "    </tr>\n",
       "    <tr>\n",
       "      <th>Date</th>\n",
       "      <th></th>\n",
       "      <th></th>\n",
       "    </tr>\n",
       "  </thead>\n",
       "  <tbody>\n",
       "    <tr>\n",
       "      <th>2019-12-28</th>\n",
       "      <td>0.386012</td>\n",
       "      <td>0.079870</td>\n",
       "    </tr>\n",
       "    <tr>\n",
       "      <th>2019-12-29</th>\n",
       "      <td>0.382562</td>\n",
       "      <td>0.072515</td>\n",
       "    </tr>\n",
       "    <tr>\n",
       "      <th>2019-12-30</th>\n",
       "      <td>0.392603</td>\n",
       "      <td>0.080258</td>\n",
       "    </tr>\n",
       "    <tr>\n",
       "      <th>2019-12-31</th>\n",
       "      <td>0.404880</td>\n",
       "      <td>0.081927</td>\n",
       "    </tr>\n",
       "    <tr>\n",
       "      <th>2020-01-01</th>\n",
       "      <td>0.415301</td>\n",
       "      <td>0.123758</td>\n",
       "    </tr>\n",
       "  </tbody>\n",
       "</table>\n",
       "</div>"
      ],
      "text/plain": [
       "            Subjectivity  Polarity\n",
       "Date                              \n",
       "2019-12-28      0.386012  0.079870\n",
       "2019-12-29      0.382562  0.072515\n",
       "2019-12-30      0.392603  0.080258\n",
       "2019-12-31      0.404880  0.081927\n",
       "2020-01-01      0.415301  0.123758"
      ]
     },
     "metadata": {},
     "output_type": "display_data"
    }
   ],
   "source": [
    "# Get the daily sentimental scores\n",
    "tsla_sentiments_df_textblob = df[[\"Subjectivity\",\"Polarity\"]].copy()\n",
    "tsla_sentiments_df_textblob['Date'] = pd.to_datetime(df['post_date'].dt.date, utc=False)\n",
    "tsla_sentiments_df_textblob = tsla_sentiments_df_textblob.groupby('Date').mean()"
   ]
  },
  {
   "cell_type": "code",
   "execution_count": 9,
   "id": "4f2d14fe",
   "metadata": {},
   "outputs": [
    {
     "name": "stdout",
     "output_type": "stream",
     "text": [
      "Stored 'tsla_sentiments_df_textblob' (DataFrame)\n"
     ]
    }
   ],
   "source": [
    "%store tsla_sentiments_df_textblob"
   ]
  }
 ],
 "metadata": {
  "kernelspec": {
   "display_name": "Python 3 (ipykernel)",
   "language": "python",
   "name": "python3"
  },
  "language_info": {
   "codemirror_mode": {
    "name": "ipython",
    "version": 3
   },
   "file_extension": ".py",
   "mimetype": "text/x-python",
   "name": "python",
   "nbconvert_exporter": "python",
   "pygments_lexer": "ipython3",
   "version": "3.9.13"
  },
  "widgets": {
   "application/vnd.jupyter.widget-state+json": {
    "state": {},
    "version_major": 2,
    "version_minor": 0
   }
  }
 },
 "nbformat": 4,
 "nbformat_minor": 5
}
