{
 "cells": [
  {
   "cell_type": "code",
   "execution_count": null,
   "id": "9a680620-1e50-4cb8-baf4-004db4d46257",
   "metadata": {},
   "outputs": [],
   "source": [
    "import pandas as pd\n",
    "import re\n",
    "import pandas_datareader as dr\n",
    "from vaderSentiment.vaderSentiment import SentimentIntensityAnalyzer\n",
    "\n",
    "\n",
    "%store -r"
   ]
  },
  {
   "cell_type": "code",
   "execution_count": null,
   "id": "7f939ac7-d6e1-4b10-8cde-b8963bb9299e",
   "metadata": {},
   "outputs": [],
   "source": [
    "# %run PrepareData.ipynb"
   ]
  },
  {
   "cell_type": "code",
   "execution_count": null,
   "id": "12f68bf8-1e6d-46c7-8b88-4ceeb41d03a0",
   "metadata": {},
   "outputs": [],
   "source": [
    "# tsla_tweets_df.head()"
   ]
  },
  {
   "cell_type": "code",
   "execution_count": null,
   "id": "db9879f1-3319-47b5-a42d-102373319f4e",
   "metadata": {},
   "outputs": [],
   "source": [
    "# The purpose of this function is to prepare text for lexicon by removing special characters and symbols that are irrelavant for the tweet classification\n",
    "def cleanTweet(text):\n",
    "    # Remove '#' hash tag     \n",
    "    text = re.sub('#', '', text) \n",
    "    #Remove @mentions \n",
    "    text = re.sub('@[A-Za-z0–9]+', '', text) \n",
    "    # Remove RT\n",
    "    tweet = re.sub('RT[\\s]+', '', text) \n",
    "    # Remove hyperlink\n",
    "    tweet = re.sub('https?:\\/\\/\\S+', '', text)  \n",
    "    return text\n",
    "def getSentiments(tweet):\n",
    "    sentiments = analyser.polarity_scores(cleanTweet(tweet))    \n",
    "    return sentiments[\"neg\"],sentiments[\"neu\"],sentiments[\"pos\"],sentiments[\"compound\"]\n"
   ]
  },
  {
   "cell_type": "code",
   "execution_count": null,
   "id": "fdd6c523-958c-4b8f-86a5-06f0e7176e11",
   "metadata": {},
   "outputs": [],
   "source": [
    "analyser = SentimentIntensityAnalyzer()\n",
    "tsla_tweets_df[\"polarityScore\"] = tsla_tweets_df[\"body\"].apply(lambda tweet : analyser.polarity_scores(cleanTweet(tweet))[\"compound\"] )\n",
    "# tsla_tweets_df[[\"neg\",\"neu\",\"pos\",\"compound\"]] = tsla_tweets_df[\"body\"].apply(lambda tweet: getSentiments(tweet))\n",
    "tsla_tweets_df[\"sentiment\"] = tsla_tweets_df[\"polarityScore\"].apply(lambda ps : 1 if(ps >=0.05) else 0 )\n",
    "# display(tsla_tweets_df.head())\n",
    "# display(tsla_tweets_df.tail())"
   ]
  },
  {
   "cell_type": "code",
   "execution_count": null,
   "id": "3f9c19f4-ee69-4c84-8df3-c3f0d18d7219",
   "metadata": {},
   "outputs": [],
   "source": [
    "tsla_sentiments_df = tsla_tweets_df[[\"post_date\",\"polarityScore\"]].copy()\n",
    "tsla_sentiments_df['Date'] = pd.to_datetime(tsla_tweets_df['post_date'].dt.date, utc=False)\n",
    "tsla_sentiments_df = tsla_sentiments_df.groupby('Date').mean()"
   ]
  },
  {
   "cell_type": "code",
   "execution_count": null,
   "id": "317400f1-307f-4959-910b-3f2e27c49c45",
   "metadata": {},
   "outputs": [],
   "source": [
    "%store tsla_sentiments_df"
   ]
  },
  {
   "cell_type": "code",
   "execution_count": null,
   "id": "b5f4c5aa-19bd-489d-950f-33803d43659f",
   "metadata": {},
   "outputs": [],
   "source": []
  },
  {
   "cell_type": "code",
   "execution_count": null,
   "id": "aeed7c8c-847c-4e48-a8cd-45e86cc4f236",
   "metadata": {},
   "outputs": [],
   "source": []
  }
 ],
 "metadata": {
  "kernelspec": {
   "display_name": "Python 3.9 (tensorflow)",
   "language": "python",
   "name": "tensorflow"
  },
  "language_info": {
   "codemirror_mode": {
    "name": "ipython",
    "version": 3
   },
   "file_extension": ".py",
   "mimetype": "text/x-python",
   "name": "python",
   "nbconvert_exporter": "python",
   "pygments_lexer": "ipython3",
   "version": "3.9.13"
  }
 },
 "nbformat": 4,
 "nbformat_minor": 5
}
