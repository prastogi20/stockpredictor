{
 "cells": [
  {
   "cell_type": "code",
   "execution_count": 51,
   "id": "f61850b8-c022-42cf-8e54-ae900d799888",
   "metadata": {},
   "outputs": [],
   "source": [
    "import pandas as pd\n",
    "from pathlib import Path\n",
    "import matplotlib as plot"
   ]
  },
  {
   "cell_type": "code",
   "execution_count": 52,
   "id": "7851d711-1c4f-4297-a93a-93c64188bd22",
   "metadata": {},
   "outputs": [],
   "source": [
    "from sklearn.svm import SVC\n",
    "from sklearn.metrics import accuracy_score"
   ]
  },
  {
   "cell_type": "code",
   "execution_count": 53,
   "id": "ee38ec61-d765-4449-9149-72b5e173e23f",
   "metadata": {},
   "outputs": [],
   "source": [
    "import pandas as pd\n",
    "import numpy as np"
   ]
  },
  {
   "cell_type": "code",
   "execution_count": 54,
   "id": "54173669-db70-427e-af7f-7cafe437dc0b",
   "metadata": {},
   "outputs": [],
   "source": [
    "import matplotlib.pyplot as plt\n",
    "plt.style.use('seaborn-darkgrid')"
   ]
  },
  {
   "cell_type": "code",
   "execution_count": 55,
   "id": "2ab3207b-404d-4078-9ab4-66960dc3a6c5",
   "metadata": {},
   "outputs": [],
   "source": [
    "import warnings\n",
    "warnings.filterwarnings(\"ignore\")"
   ]
  },
  {
   "cell_type": "code",
   "execution_count": 56,
   "id": "3a8d1048-2281-4be3-a424-e44ca88d9d08",
   "metadata": {},
   "outputs": [
    {
     "data": {
      "text/html": [
       "<div>\n",
       "<style scoped>\n",
       "    .dataframe tbody tr th:only-of-type {\n",
       "        vertical-align: middle;\n",
       "    }\n",
       "\n",
       "    .dataframe tbody tr th {\n",
       "        vertical-align: top;\n",
       "    }\n",
       "\n",
       "    .dataframe thead th {\n",
       "        text-align: right;\n",
       "    }\n",
       "</style>\n",
       "<table border=\"1\" class=\"dataframe\">\n",
       "  <thead>\n",
       "    <tr style=\"text-align: right;\">\n",
       "      <th></th>\n",
       "      <th>ticker_symbol</th>\n",
       "      <th>close_value</th>\n",
       "      <th>volume</th>\n",
       "      <th>open_value</th>\n",
       "      <th>high_value</th>\n",
       "      <th>low_value</th>\n",
       "    </tr>\n",
       "    <tr>\n",
       "      <th>day_date</th>\n",
       "      <th></th>\n",
       "      <th></th>\n",
       "      <th></th>\n",
       "      <th></th>\n",
       "      <th></th>\n",
       "      <th></th>\n",
       "    </tr>\n",
       "  </thead>\n",
       "  <tbody>\n",
       "    <tr>\n",
       "      <th>2020-05-29</th>\n",
       "      <td>AAPL</td>\n",
       "      <td>317.94</td>\n",
       "      <td>38399530</td>\n",
       "      <td>319.25</td>\n",
       "      <td>321.15</td>\n",
       "      <td>316.47</td>\n",
       "    </tr>\n",
       "    <tr>\n",
       "      <th>2020-05-28</th>\n",
       "      <td>AAPL</td>\n",
       "      <td>318.25</td>\n",
       "      <td>33449100</td>\n",
       "      <td>316.77</td>\n",
       "      <td>323.44</td>\n",
       "      <td>315.63</td>\n",
       "    </tr>\n",
       "    <tr>\n",
       "      <th>2020-05-27</th>\n",
       "      <td>AAPL</td>\n",
       "      <td>318.11</td>\n",
       "      <td>28236270</td>\n",
       "      <td>316.14</td>\n",
       "      <td>318.71</td>\n",
       "      <td>313.09</td>\n",
       "    </tr>\n",
       "    <tr>\n",
       "      <th>2020-05-26</th>\n",
       "      <td>AAPL</td>\n",
       "      <td>316.73</td>\n",
       "      <td>31380450</td>\n",
       "      <td>323.50</td>\n",
       "      <td>324.24</td>\n",
       "      <td>316.50</td>\n",
       "    </tr>\n",
       "    <tr>\n",
       "      <th>2020-05-22</th>\n",
       "      <td>AAPL</td>\n",
       "      <td>318.89</td>\n",
       "      <td>20450750</td>\n",
       "      <td>315.77</td>\n",
       "      <td>319.23</td>\n",
       "      <td>315.35</td>\n",
       "    </tr>\n",
       "  </tbody>\n",
       "</table>\n",
       "</div>"
      ],
      "text/plain": [
       "           ticker_symbol  close_value    volume  open_value  high_value  \\\n",
       "day_date                                                                  \n",
       "2020-05-29          AAPL       317.94  38399530      319.25      321.15   \n",
       "2020-05-28          AAPL       318.25  33449100      316.77      323.44   \n",
       "2020-05-27          AAPL       318.11  28236270      316.14      318.71   \n",
       "2020-05-26          AAPL       316.73  31380450      323.50      324.24   \n",
       "2020-05-22          AAPL       318.89  20450750      315.77      319.23   \n",
       "\n",
       "            low_value  \n",
       "day_date               \n",
       "2020-05-29     316.47  \n",
       "2020-05-28     315.63  \n",
       "2020-05-27     313.09  \n",
       "2020-05-26     316.50  \n",
       "2020-05-22     315.35  "
      ]
     },
     "execution_count": 56,
     "metadata": {},
     "output_type": "execute_result"
    }
   ],
   "source": [
    "df= pd.read_csv(Path('CompanyValues.csv'), index_col='day_date', parse_dates=True, infer_datetime_format=True)\n",
    "df.head()"
   ]
  },
  {
   "cell_type": "code",
   "execution_count": 57,
   "id": "6856e4c9-cb47-43d8-b421-68c204a2cec6",
   "metadata": {
    "tags": []
   },
   "outputs": [],
   "source": [
    "#Slice df for TSLA stock data\n",
    "df= df[df['ticker_symbol'] == 'TSLA']\n",
    "df= df.sort_index()\n",
    "df= df.loc['2015-01-01':]"
   ]
  },
  {
   "cell_type": "code",
   "execution_count": 58,
   "id": "9c3da943-5d8d-4687-9d61-b44164acff0a",
   "metadata": {
    "tags": []
   },
   "outputs": [
    {
     "data": {
      "text/html": [
       "<div>\n",
       "<style scoped>\n",
       "    .dataframe tbody tr th:only-of-type {\n",
       "        vertical-align: middle;\n",
       "    }\n",
       "\n",
       "    .dataframe tbody tr th {\n",
       "        vertical-align: top;\n",
       "    }\n",
       "\n",
       "    .dataframe thead th {\n",
       "        text-align: right;\n",
       "    }\n",
       "</style>\n",
       "<table border=\"1\" class=\"dataframe\">\n",
       "  <thead>\n",
       "    <tr style=\"text-align: right;\">\n",
       "      <th></th>\n",
       "      <th>ticker_symbol</th>\n",
       "      <th>close_value</th>\n",
       "      <th>volume</th>\n",
       "      <th>open_value</th>\n",
       "      <th>high_value</th>\n",
       "      <th>low_value</th>\n",
       "      <th>Open-Close</th>\n",
       "      <th>High-Low</th>\n",
       "    </tr>\n",
       "    <tr>\n",
       "      <th>day_date</th>\n",
       "      <th></th>\n",
       "      <th></th>\n",
       "      <th></th>\n",
       "      <th></th>\n",
       "      <th></th>\n",
       "      <th></th>\n",
       "      <th></th>\n",
       "      <th></th>\n",
       "    </tr>\n",
       "  </thead>\n",
       "  <tbody>\n",
       "    <tr>\n",
       "      <th>2015-01-01</th>\n",
       "      <td>TSLA</td>\n",
       "      <td>222.41</td>\n",
       "      <td>2392947</td>\n",
       "      <td>223.09</td>\n",
       "      <td>225.68</td>\n",
       "      <td>222.2500</td>\n",
       "      <td>0.68</td>\n",
       "      <td>3.4300</td>\n",
       "    </tr>\n",
       "    <tr>\n",
       "      <th>2015-01-02</th>\n",
       "      <td>TSLA</td>\n",
       "      <td>219.31</td>\n",
       "      <td>4753239</td>\n",
       "      <td>222.87</td>\n",
       "      <td>223.25</td>\n",
       "      <td>213.2600</td>\n",
       "      <td>3.56</td>\n",
       "      <td>9.9900</td>\n",
       "    </tr>\n",
       "    <tr>\n",
       "      <th>2015-01-03</th>\n",
       "      <td>TSLA</td>\n",
       "      <td>219.31</td>\n",
       "      <td>4753239</td>\n",
       "      <td>222.87</td>\n",
       "      <td>223.25</td>\n",
       "      <td>213.2600</td>\n",
       "      <td>3.56</td>\n",
       "      <td>9.9900</td>\n",
       "    </tr>\n",
       "    <tr>\n",
       "      <th>2015-01-04</th>\n",
       "      <td>TSLA</td>\n",
       "      <td>219.31</td>\n",
       "      <td>4753239</td>\n",
       "      <td>222.87</td>\n",
       "      <td>223.25</td>\n",
       "      <td>213.2600</td>\n",
       "      <td>3.56</td>\n",
       "      <td>9.9900</td>\n",
       "    </tr>\n",
       "    <tr>\n",
       "      <th>2015-01-05</th>\n",
       "      <td>TSLA</td>\n",
       "      <td>210.09</td>\n",
       "      <td>5355485</td>\n",
       "      <td>214.55</td>\n",
       "      <td>216.50</td>\n",
       "      <td>207.1626</td>\n",
       "      <td>4.46</td>\n",
       "      <td>9.3374</td>\n",
       "    </tr>\n",
       "  </tbody>\n",
       "</table>\n",
       "</div>"
      ],
      "text/plain": [
       "           ticker_symbol  close_value   volume  open_value  high_value  \\\n",
       "day_date                                                                 \n",
       "2015-01-01          TSLA       222.41  2392947      223.09      225.68   \n",
       "2015-01-02          TSLA       219.31  4753239      222.87      223.25   \n",
       "2015-01-03          TSLA       219.31  4753239      222.87      223.25   \n",
       "2015-01-04          TSLA       219.31  4753239      222.87      223.25   \n",
       "2015-01-05          TSLA       210.09  5355485      214.55      216.50   \n",
       "\n",
       "            low_value  Open-Close  High-Low  \n",
       "day_date                                     \n",
       "2015-01-01   222.2500        0.68    3.4300  \n",
       "2015-01-02   213.2600        3.56    9.9900  \n",
       "2015-01-03   213.2600        3.56    9.9900  \n",
       "2015-01-04   213.2600        3.56    9.9900  \n",
       "2015-01-05   207.1626        4.46    9.3374  "
      ]
     },
     "execution_count": 58,
     "metadata": {},
     "output_type": "execute_result"
    }
   ],
   "source": [
    "#create predictor variables \n",
    "df['Open-Close'] = df.open_value - df.close_value\n",
    "df['High-Low'] = df.high_value - df.low_value\n",
    "df.head()"
   ]
  },
  {
   "cell_type": "code",
   "execution_count": 59,
   "id": "24555bf2-6938-48bb-8e47-8e8e15045ce5",
   "metadata": {},
   "outputs": [
    {
     "data": {
      "text/html": [
       "<div>\n",
       "<style scoped>\n",
       "    .dataframe tbody tr th:only-of-type {\n",
       "        vertical-align: middle;\n",
       "    }\n",
       "\n",
       "    .dataframe tbody tr th {\n",
       "        vertical-align: top;\n",
       "    }\n",
       "\n",
       "    .dataframe thead th {\n",
       "        text-align: right;\n",
       "    }\n",
       "</style>\n",
       "<table border=\"1\" class=\"dataframe\">\n",
       "  <thead>\n",
       "    <tr style=\"text-align: right;\">\n",
       "      <th></th>\n",
       "      <th>Open-Close</th>\n",
       "      <th>High-Low</th>\n",
       "    </tr>\n",
       "    <tr>\n",
       "      <th>day_date</th>\n",
       "      <th></th>\n",
       "      <th></th>\n",
       "    </tr>\n",
       "  </thead>\n",
       "  <tbody>\n",
       "    <tr>\n",
       "      <th>2015-01-01</th>\n",
       "      <td>0.68</td>\n",
       "      <td>3.4300</td>\n",
       "    </tr>\n",
       "    <tr>\n",
       "      <th>2015-01-02</th>\n",
       "      <td>3.56</td>\n",
       "      <td>9.9900</td>\n",
       "    </tr>\n",
       "    <tr>\n",
       "      <th>2015-01-03</th>\n",
       "      <td>3.56</td>\n",
       "      <td>9.9900</td>\n",
       "    </tr>\n",
       "    <tr>\n",
       "      <th>2015-01-04</th>\n",
       "      <td>3.56</td>\n",
       "      <td>9.9900</td>\n",
       "    </tr>\n",
       "    <tr>\n",
       "      <th>2015-01-05</th>\n",
       "      <td>4.46</td>\n",
       "      <td>9.3374</td>\n",
       "    </tr>\n",
       "  </tbody>\n",
       "</table>\n",
       "</div>"
      ],
      "text/plain": [
       "            Open-Close  High-Low\n",
       "day_date                        \n",
       "2015-01-01        0.68    3.4300\n",
       "2015-01-02        3.56    9.9900\n",
       "2015-01-03        3.56    9.9900\n",
       "2015-01-04        3.56    9.9900\n",
       "2015-01-05        4.46    9.3374"
      ]
     },
     "execution_count": 59,
     "metadata": {},
     "output_type": "execute_result"
    }
   ],
   "source": [
    "df=df.drop(['ticker_symbol','close_value','volume','open_value','high_value','low_value'],\n",
    "           axis=1)\n",
    "df.head()"
   ]
  },
  {
   "cell_type": "code",
   "execution_count": 60,
   "id": "0ce4f33e-f8a3-4cc3-add3-7f5bd5fd3e93",
   "metadata": {},
   "outputs": [],
   "source": [
    "#store all predictor variables in a varibale x \n",
    "x = df"
   ]
  },
  {
   "cell_type": "code",
   "execution_count": 61,
   "id": "95392322-d12d-43a9-a77c-e2af802529fa",
   "metadata": {},
   "outputs": [
    {
     "data": {
      "text/html": [
       "<div>\n",
       "<style scoped>\n",
       "    .dataframe tbody tr th:only-of-type {\n",
       "        vertical-align: middle;\n",
       "    }\n",
       "\n",
       "    .dataframe tbody tr th {\n",
       "        vertical-align: top;\n",
       "    }\n",
       "\n",
       "    .dataframe thead th {\n",
       "        text-align: right;\n",
       "    }\n",
       "</style>\n",
       "<table border=\"1\" class=\"dataframe\">\n",
       "  <thead>\n",
       "    <tr style=\"text-align: right;\">\n",
       "      <th></th>\n",
       "      <th>Open-Close</th>\n",
       "      <th>High-Low</th>\n",
       "    </tr>\n",
       "    <tr>\n",
       "      <th>day_date</th>\n",
       "      <th></th>\n",
       "      <th></th>\n",
       "    </tr>\n",
       "  </thead>\n",
       "  <tbody>\n",
       "    <tr>\n",
       "      <th>2015-01-01</th>\n",
       "      <td>0.68</td>\n",
       "      <td>3.4300</td>\n",
       "    </tr>\n",
       "    <tr>\n",
       "      <th>2015-01-02</th>\n",
       "      <td>3.56</td>\n",
       "      <td>9.9900</td>\n",
       "    </tr>\n",
       "    <tr>\n",
       "      <th>2015-01-03</th>\n",
       "      <td>3.56</td>\n",
       "      <td>9.9900</td>\n",
       "    </tr>\n",
       "    <tr>\n",
       "      <th>2015-01-04</th>\n",
       "      <td>3.56</td>\n",
       "      <td>9.9900</td>\n",
       "    </tr>\n",
       "    <tr>\n",
       "      <th>2015-01-05</th>\n",
       "      <td>4.46</td>\n",
       "      <td>9.3374</td>\n",
       "    </tr>\n",
       "  </tbody>\n",
       "</table>\n",
       "</div>"
      ],
      "text/plain": [
       "            Open-Close  High-Low\n",
       "day_date                        \n",
       "2015-01-01        0.68    3.4300\n",
       "2015-01-02        3.56    9.9900\n",
       "2015-01-03        3.56    9.9900\n",
       "2015-01-04        3.56    9.9900\n",
       "2015-01-05        4.46    9.3374"
      ]
     },
     "execution_count": 61,
     "metadata": {},
     "output_type": "execute_result"
    }
   ],
   "source": [
    "x.head()"
   ]
  },
  {
   "cell_type": "code",
   "execution_count": 62,
   "id": "b6ec78d0-59ac-477c-83de-d7f47758eb34",
   "metadata": {},
   "outputs": [
    {
     "name": "stdout",
     "output_type": "stream",
     "text": [
      "Unexpected exception formatting exception. Falling back to standard exception\n"
     ]
    },
    {
     "name": "stderr",
     "output_type": "stream",
     "text": [
      "Traceback (most recent call last):\n",
      "  File \"/Users/og/miniconda3/lib/python3.9/site-packages/pandas/core/indexes/base.py\", line 3800, in get_loc\n",
      "    else:\n",
      "  File \"pandas/_libs/index.pyx\", line 138, in pandas._libs.index.IndexEngine.get_loc\n",
      "  File \"pandas/_libs/index.pyx\", line 165, in pandas._libs.index.IndexEngine.get_loc\n",
      "  File \"pandas/_libs/hashtable_class_helper.pxi\", line 5745, in pandas._libs.hashtable.PyObjectHashTable.get_item\n",
      "  File \"pandas/_libs/hashtable_class_helper.pxi\", line 5753, in pandas._libs.hashtable.PyObjectHashTable.get_item\n",
      "KeyError: 'close_value'\n",
      "\n",
      "The above exception was the direct cause of the following exception:\n",
      "\n",
      "Traceback (most recent call last):\n",
      "  File \"/Users/og/miniconda3/lib/python3.9/site-packages/IPython/core/interactiveshell.py\", line 3378, in run_code\n",
      "    exec(code_obj, self.user_global_ns, self.user_ns)\n",
      "  File \"/var/folders/y6/1dwwtby57l39j1srcbg69jww0000gn/T/ipykernel_89846/3382336401.py\", line 2, in <module>\n",
      "    y = np.where(df['close_value'].shift(-1) > df['close-value'], 1, 0)\n",
      "  File \"/Users/og/miniconda3/lib/python3.9/site-packages/pandas/core/frame.py\", line 3805, in __getitem__\n",
      "  File \"/Users/og/miniconda3/lib/python3.9/site-packages/pandas/core/indexes/base.py\", line 3802, in get_loc\n",
      "    if target._is_multi and self._is_multi:\n",
      "KeyError: 'close_value'\n",
      "\n",
      "During handling of the above exception, another exception occurred:\n",
      "\n",
      "Traceback (most recent call last):\n",
      "  File \"/Users/og/miniconda3/lib/python3.9/site-packages/IPython/core/interactiveshell.py\", line 1997, in showtraceback\n",
      "    stb = self.InteractiveTB.structured_traceback(\n",
      "  File \"/Users/og/miniconda3/lib/python3.9/site-packages/IPython/core/ultratb.py\", line 1112, in structured_traceback\n",
      "    return FormattedTB.structured_traceback(\n",
      "  File \"/Users/og/miniconda3/lib/python3.9/site-packages/IPython/core/ultratb.py\", line 1006, in structured_traceback\n",
      "    return VerboseTB.structured_traceback(\n",
      "  File \"/Users/og/miniconda3/lib/python3.9/site-packages/IPython/core/ultratb.py\", line 859, in structured_traceback\n",
      "    formatted_exception = self.format_exception_as_a_whole(etype, evalue, etb, number_of_lines_of_context,\n",
      "  File \"/Users/og/miniconda3/lib/python3.9/site-packages/IPython/core/ultratb.py\", line 812, in format_exception_as_a_whole\n",
      "    frames.append(self.format_record(r))\n",
      "  File \"/Users/og/miniconda3/lib/python3.9/site-packages/IPython/core/ultratb.py\", line 730, in format_record\n",
      "    result += ''.join(_format_traceback_lines(frame_info.lines, Colors, self.has_colors, lvals))\n",
      "  File \"/Users/og/miniconda3/lib/python3.9/site-packages/stack_data/utils.py\", line 145, in cached_property_wrapper\n",
      "    value = obj.__dict__[self.func.__name__] = self.func(obj)\n",
      "  File \"/Users/og/miniconda3/lib/python3.9/site-packages/stack_data/core.py\", line 734, in lines\n",
      "    pieces = self.included_pieces\n",
      "  File \"/Users/og/miniconda3/lib/python3.9/site-packages/stack_data/utils.py\", line 145, in cached_property_wrapper\n",
      "    value = obj.__dict__[self.func.__name__] = self.func(obj)\n",
      "  File \"/Users/og/miniconda3/lib/python3.9/site-packages/stack_data/core.py\", line 681, in included_pieces\n",
      "    pos = scope_pieces.index(self.executing_piece)\n",
      "  File \"/Users/og/miniconda3/lib/python3.9/site-packages/stack_data/utils.py\", line 145, in cached_property_wrapper\n",
      "    value = obj.__dict__[self.func.__name__] = self.func(obj)\n",
      "  File \"/Users/og/miniconda3/lib/python3.9/site-packages/stack_data/core.py\", line 660, in executing_piece\n",
      "    return only(\n",
      "  File \"/Users/og/miniconda3/lib/python3.9/site-packages/executing/executing.py\", line 167, in only\n",
      "    raise NotOneValueFound('Expected one value, found 0')\n",
      "executing.executing.NotOneValueFound: Expected one value, found 0\n"
     ]
    }
   ],
   "source": [
    "# Target variables\n",
    "y = np.where(df['close_value'].shift(-1) > df['close-value'], 1, 0)\n",
    "y"
   ]
  },
  {
   "cell_type": "code",
   "execution_count": null,
   "id": "2a4acd30-9b6a-45c4-8e9c-a8874dab52a9",
   "metadata": {},
   "outputs": [],
   "source": [
    "split_percentage = 0.8\n",
    "split = int(split_percentage*len(df))\n",
    "  \n",
    "# Train data set\n",
    "X_train = X[:split]\n",
    "y_train = y[:split]\n",
    "  \n",
    "# Test data set\n",
    "X_test = X[split:]\n",
    "y_test = y[split:]"
   ]
  },
  {
   "cell_type": "code",
   "execution_count": null,
   "id": "30c93850-5099-45ef-8a07-c84bff9cdc8d",
   "metadata": {},
   "outputs": [],
   "source": []
  },
  {
   "cell_type": "code",
   "execution_count": null,
   "id": "4825d692-8115-4b96-9a0b-63d5f4401184",
   "metadata": {},
   "outputs": [],
   "source": [
    "# Support vector classifier\n",
    "cls = SVC().fit(X_train, y_train)"
   ]
  },
  {
   "cell_type": "code",
   "execution_count": null,
   "id": "b6f524e9-8c2a-4ed3-989e-8d2593c55a54",
   "metadata": {},
   "outputs": [],
   "source": [
    "df['Predicted_Signal'] = cls.predict(X)"
   ]
  },
  {
   "cell_type": "code",
   "execution_count": null,
   "id": "107d6263-0f21-4a95-88b4-daeb7aa566d3",
   "metadata": {},
   "outputs": [],
   "source": [
    "# Calculate daily returns\n",
    "\n",
    "df['Return'] = df.Close.pct_change()"
   ]
  },
  {
   "cell_type": "code",
   "execution_count": null,
   "id": "52964cf5-fcdc-49f6-8fea-b5bd047bcb70",
   "metadata": {},
   "outputs": [],
   "source": [
    "# Calculate strategy returns\n",
    "\n",
    "df['Strategy_Return'] = df.Return *df.Predicted_Signal.shift(1)"
   ]
  },
  {
   "cell_type": "code",
   "execution_count": null,
   "id": "7f6f53c2-ae6d-4105-90a3-6d66196a3a45",
   "metadata": {},
   "outputs": [],
   "source": []
  },
  {
   "cell_type": "code",
   "execution_count": null,
   "id": "d9a5af4a-5926-4181-9a25-590b91690a23",
   "metadata": {},
   "outputs": [],
   "source": [
    "# Calculate Cumulutive returns\n",
    "\n",
    "df['Cum_Ret'] = df['Return'].cumsum()\n",
    "df"
   ]
  },
  {
   "cell_type": "code",
   "execution_count": null,
   "id": "aa522036-a4c6-4e27-823b-8548aece1d11",
   "metadata": {},
   "outputs": [],
   "source": [
    "# Plot Strategy Cumulative returns \n",
    "df['Cum_Strategy'] = df['Strategy_Return'].cumsum()\n",
    "df"
   ]
  },
  {
   "cell_type": "code",
   "execution_count": null,
   "id": "1a677986-58ef-489b-8bac-8f59711ca09e",
   "metadata": {},
   "outputs": [],
   "source": []
  },
  {
   "cell_type": "code",
   "execution_count": null,
   "id": "b22ef018-b908-48d7-81ab-ace159441411",
   "metadata": {},
   "outputs": [],
   "source": [
    "import matplotlib.pyplot as plt\n",
    "%matplotlib inline\n",
    "  \n",
    "plt.plot(Df['Cum_Ret'],color='red')\n",
    "plt.plot(Df['Cum_Strategy'],color='blue')"
   ]
  }
 ],
 "metadata": {
  "kernelspec": {
   "display_name": "Python 3 (ipykernel)",
   "language": "python",
   "name": "python3"
  },
  "language_info": {
   "codemirror_mode": {
    "name": "ipython",
    "version": 3
   },
   "file_extension": ".py",
   "mimetype": "text/x-python",
   "name": "python",
   "nbconvert_exporter": "python",
   "pygments_lexer": "ipython3",
   "version": "3.9.13"
  }
 },
 "nbformat": 4,
 "nbformat_minor": 5
}
