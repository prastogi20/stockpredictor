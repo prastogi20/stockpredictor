{
 "cells": [
  {
   "cell_type": "code",
   "execution_count": null,
   "id": "32f5997c",
   "metadata": {},
   "outputs": [],
   "source": [
    "# Import the necessary libraries\n",
    "import pandas as pd\n",
    "from pathlib import Path\n",
    "from textblob import TextBlob\n",
    "import re\n",
    "\n",
    "%store -r"
   ]
  },
  {
   "cell_type": "code",
   "execution_count": null,
   "id": "ec41b189",
   "metadata": {},
   "outputs": [],
   "source": [
    "# Import the restored data\n",
    "# %run PrepareData.ipynb"
   ]
  },
  {
   "cell_type": "code",
   "execution_count": null,
   "id": "abb971e0",
   "metadata": {},
   "outputs": [],
   "source": [
    "# Reset the index of the dataframe\n",
    "tsla_tweets_df = tsla_tweets_df.reset_index()"
   ]
  },
  {
   "cell_type": "code",
   "execution_count": null,
   "id": "b853f4c3",
   "metadata": {},
   "outputs": [],
   "source": [
    "# Clean the text\n",
    "def cleanTxt(text):\n",
    "    text = re.sub(r'@[A-Za-z0-9]+', '', text)#Remove @mentions\n",
    "    text = re.sub(r'#', '', text)# Remove '#' hash tag\n",
    "    text = re.sub(r'RT[\\s]+', '', text)# Remove RT\n",
    "    text = re.sub(r'http?:\\/\\/\\S+', '', text)# Remove hyperlink\n",
    "    text = re.sub(r'\\$[A-Za-z0-9]+', '', text)# Remove $\n",
    "    text = re.sub(r'https?:\\/\\/\\S+', '', text)# Remove hyperlink\n",
    "    \n",
    "    return text\n",
    "\n",
    "tsla_tweets_df['body'] = tsla_tweets_df['body'].apply(cleanTxt)"
   ]
  },
  {
   "cell_type": "code",
   "execution_count": null,
   "id": "df2b2469",
   "metadata": {},
   "outputs": [],
   "source": [
    "# Creaet a function to get the subjectivity\n",
    "def getSubjectivity(text):\n",
    "    return TextBlob(text).sentiment.subjectivity\n",
    "\n",
    "def getPolarity(text):\n",
    "    return TextBlob(text).sentiment.polarity"
   ]
  },
  {
   "cell_type": "code",
   "execution_count": null,
   "id": "02c2cd16",
   "metadata": {},
   "outputs": [],
   "source": [
    "# Apply the models to the cleaned data\n",
    "tsla_tweets_df['Subjectivity'] = tsla_tweets_df['body'].apply(getSubjectivity)\n",
    "tsla_tweets_df['Polarity'] = tsla_tweets_df['body'].apply(getPolarity)"
   ]
  },
  {
   "cell_type": "code",
   "execution_count": null,
   "id": "cbbb3ffe",
   "metadata": {},
   "outputs": [],
   "source": [
    "# Check the sentiment analysis result\n",
    "tsla_tweets_df[['Subjectivity','Polarity']]"
   ]
  }
 ],
 "metadata": {
  "kernelspec": {
   "display_name": "Python 3 (ipykernel)",
   "language": "python",
   "name": "python3"
  },
  "language_info": {
   "codemirror_mode": {
    "name": "ipython",
    "version": 3
   },
   "file_extension": ".py",
   "mimetype": "text/x-python",
   "name": "python",
   "nbconvert_exporter": "python",
   "pygments_lexer": "ipython3",
   "version": "3.9.13"
  }
 },
 "nbformat": 4,
 "nbformat_minor": 5
}
