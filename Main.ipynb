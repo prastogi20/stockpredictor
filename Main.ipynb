{
 "cells": [
  {
   "cell_type": "code",
   "execution_count": null,
   "id": "a8fc45b7-6698-41ae-80e9-3f2595923c9d",
   "metadata": {},
   "outputs": [],
   "source": [
    "%run PrepareData.ipynb"
   ]
  },
  {
   "cell_type": "code",
   "execution_count": null,
   "id": "3722a50b-4f76-4883-b808-a17357008a31",
   "metadata": {},
   "outputs": [],
   "source": [
    "%run Stock_direction_predictor_RF.ipynb"
   ]
  },
  {
   "cell_type": "code",
   "execution_count": null,
   "id": "2a367f38-30c6-40f9-8f58-69c35210e050",
   "metadata": {},
   "outputs": [],
   "source": [
    "%run Stock_sentiment_predictor_KNN.ipynb"
   ]
  },
  {
   "cell_type": "code",
   "execution_count": null,
   "id": "67c73cb5-2d5f-496a-9782-f14e1089116f",
   "metadata": {},
   "outputs": [],
   "source": [
    "%run Stock_price_prediction_LTSM.ipynb"
   ]
  },
  {
   "cell_type": "code",
   "execution_count": 6,
   "id": "ce74444b-7d76-4412-9dec-8f7477c8ddad",
   "metadata": {},
   "outputs": [],
   "source": [
    "%run Textblob_Sentiment_Analysis.ipynb"
   ]
  },
  {
   "cell_type": "code",
   "execution_count": null,
   "id": "84581c99-d7b3-40d0-8923-ffaaa5b4541a",
   "metadata": {},
   "outputs": [],
   "source": []
  }
 ],
 "metadata": {
  "kernelspec": {
   "display_name": "Python 3.9 (tensorflow)",
   "language": "python",
   "name": "tensorflow"
  },
  "language_info": {
   "codemirror_mode": {
    "name": "ipython",
    "version": 3
   },
   "file_extension": ".py",
   "mimetype": "text/x-python",
   "name": "python",
   "nbconvert_exporter": "python",
   "pygments_lexer": "ipython3",
   "version": "3.9.13"
  }
 },
 "nbformat": 4,
 "nbformat_minor": 5
}
