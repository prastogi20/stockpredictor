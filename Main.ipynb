{
 "cells": [
  {
   "cell_type": "code",
   "execution_count": null,
   "id": "f6db2005-3425-48c2-8489-2598c313e8b6",
   "metadata": {},
   "outputs": [],
   "source": [
    "# This file bascially runs all notebooks in the order"
   ]
  },
  {
   "cell_type": "code",
   "execution_count": null,
   "id": "a8fc45b7-6698-41ae-80e9-3f2595923c9d",
   "metadata": {},
   "outputs": [],
   "source": [
    "# Read data from downloaded csv files and create dataframes\n",
    "%run PrepareData.ipynb"
   ]
  },
  {
   "cell_type": "code",
   "execution_count": null,
   "id": "2a367f38-30c6-40f9-8f58-69c35210e050",
   "metadata": {},
   "outputs": [],
   "source": [
    "# the purpose of this file is to create a Machine Learning model using K-nearest Neighbors algorithm and \n",
    "# analyse it's performance for stock sentiment/direction predictions for given TSLA stock & tweet data.\n",
    "%run Stock_sentiment_predictor_KNN.ipynb"
   ]
  },
  {
   "cell_type": "code",
   "execution_count": null,
   "id": "67c73cb5-2d5f-496a-9782-f14e1089116f",
   "metadata": {},
   "outputs": [],
   "source": [
    "# the purpose of this file is to create a stacked LSTM model that uses deep learning to predict the price and analyse it's performance.\n",
    "%run Stock_price_prediction_LTSM.ipynb"
   ]
  },
  {
   "cell_type": "code",
   "execution_count": null,
   "id": "dd86f28d-9303-4d9a-93db-8bb12739c2e8",
   "metadata": {},
   "outputs": [],
   "source": [
    "# the purpose of this file is to create a Machine Learning model using Random Forest algorithm and \n",
    "# analyse it's performance for stock sentiment/direction predictions for given TSLA stock & tweet data.\n",
    "%run Stock_direction_predictor_RF.ipynb"
   ]
  },
  {
   "cell_type": "code",
   "execution_count": 6,
   "id": "ce74444b-7d76-4412-9dec-8f7477c8ddad",
   "metadata": {},
   "outputs": [
    {
     "name": "stdout",
     "output_type": "stream",
     "text": [
      "Stored 'tsla_sentiments_df_textblob' (DataFrame)\n",
      "Training Data Score: 0.641566265060241\n",
      "Testing Data Score: 0.608433734939759\n",
      "              precision    recall  f1-score   support\n",
      "\n",
      "           0       0.60      0.61      0.60       163\n",
      "           1       0.62      0.61      0.61       169\n",
      "\n",
      "    accuracy                           0.61       332\n",
      "   macro avg       0.61      0.61      0.61       332\n",
      "weighted avg       0.61      0.61      0.61       332\n",
      "\n"
     ]
    }
   ],
   "source": [
    "# the purpose of this file is to  a Machine Learning model using SVM algorithm \n",
    "%run SVM.ipynb"
   ]
  },
  {
   "cell_type": "code",
   "execution_count": null,
   "id": "84581c99-d7b3-40d0-8923-ffaaa5b4541a",
   "metadata": {},
   "outputs": [],
   "source": []
  }
 ],
 "metadata": {
  "kernelspec": {
   "display_name": "Python 3.9 (tensorflow)",
   "language": "python",
   "name": "tensorflow"
  },
  "language_info": {
   "codemirror_mode": {
    "name": "ipython",
    "version": 3
   },
   "file_extension": ".py",
   "mimetype": "text/x-python",
   "name": "python",
   "nbconvert_exporter": "python",
   "pygments_lexer": "ipython3",
   "version": "3.9.13"
  }
 },
 "nbformat": 4,
 "nbformat_minor": 5
}
