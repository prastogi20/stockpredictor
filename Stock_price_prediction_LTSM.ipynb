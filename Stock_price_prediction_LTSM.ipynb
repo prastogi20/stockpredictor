{
 "cells": [
  {
   "cell_type": "markdown",
   "id": "de599725-6d78-4c16-b373-01d2e5c91ca8",
   "metadata": {},
   "source": [
    "# Stock price prediction and forcasting using LSTM\n",
    "Long Short Term Memory networks – usually called “LSTMs” – are a special kind of RNN, capable of learning long-term dependencies.\n",
    "\n",
    "## Created LSTM network for stock price prediction and forecasting\n",
    "\n",
    "NOTE: Required data is stored in IPython's database<br>\n",
    "\n",
    "### Steps for creating LSTM network\n",
    "\n",
    "Step 1 : Read required data from IPython database, here we trained model using \"open_value\" of the stock<br>\n",
    "Step 2 : As LSTM are sensitive to the scale of the data so we apply MinMaxScaler here<br>\n",
    "Step 3 : Pre-process the data and create training and testing datasets, we used 60% of historical data for training our model as we got best performance using this<br>\n",
    "Step 4 : Create LSTM network<br>\n",
    "Step 5 : Train and test the model and plot the results<br>\n",
    "Step 6 : Evaluate the performance of the network for training and test dataset<br>\n",
    "Step 7 : Forecast stock price for next 30 days<br>"
   ]
  },
  {
   "cell_type": "code",
   "execution_count": null,
   "id": "11d1a658-b8a1-420e-9392-c44926bf9793",
   "metadata": {},
   "outputs": [],
   "source": [
    "import numpy as np\n",
    "import pandas as pd\n",
    "import matplotlib.pyplot as plt\n",
    "import math\n",
    "\n",
    "from sklearn.preprocessing import MinMaxScaler\n",
    "from keras.models import Sequential\n",
    "from keras.layers import Dense,LSTM\n",
    "from sklearn.metrics import mean_squared_error"
   ]
  },
  {
   "cell_type": "code",
   "execution_count": null,
   "id": "190aca5f-1468-467a-b9c6-09bb19135b7a",
   "metadata": {},
   "outputs": [],
   "source": [
    "# Read data, commenting this as it will be executed in Main\n",
    "# %run PrepareData.ipynb"
   ]
  },
  {
   "cell_type": "code",
   "execution_count": null,
   "id": "6bb6251f-fcc0-40e3-80bf-ae6f3fb64654",
   "metadata": {},
   "outputs": [],
   "source": [
    "tsla_feature_df = tsla_stock_values_df[\"open_value\"]\n",
    "# tsla_feature_df.info()"
   ]
  },
  {
   "cell_type": "code",
   "execution_count": null,
   "id": "48d5542b-ce83-4345-ae33-814f64f4dcbb",
   "metadata": {},
   "outputs": [],
   "source": [
    "# LSTM are sensitive to the scale of the data so we apply MinMax scaler \n",
    "minmax_scaler = MinMaxScaler(feature_range = (0,1))\n",
    "tsla_feature_df = minmax_scaler.fit_transform(np.array(tsla_feature_df).reshape(-1,1))"
   ]
  },
  {
   "cell_type": "code",
   "execution_count": null,
   "id": "befafbed-3959-49d3-b2b3-775fb24aa623",
   "metadata": {},
   "outputs": [],
   "source": [
    "# This function is used to pre-process the data, where in we are converting data into dependent and independent data based on timestamp\n",
    "def create_model_dataset(dataset,time_step):\n",
    "    XData, YData = [],[]    \n",
    "    # print(len(dataset)-time_step-1)\n",
    "    for i in range(len(dataset)-time_step-1):\n",
    "        t = i + time_step\n",
    "        data = dataset[i : i+time_step,0]\n",
    "        XData.append(data)        \n",
    "        YData.append(dataset[i+time_step,0])\n",
    "    return np.array(XData),np.array(YData)   \n"
   ]
  },
  {
   "cell_type": "code",
   "execution_count": null,
   "id": "cd41a034-b689-4f87-8866-da764ae855a4",
   "metadata": {},
   "outputs": [],
   "source": [
    "train_data_size = int (len(tsla_feature_df) * .6)\n",
    "test_data_size = len(tsla_feature_df) - train_data_size\n",
    "\n",
    "train_data, test_data = tsla_feature_df[0:train_data_size,:],tsla_feature_df[train_data_size:len(tsla_feature_df),:1 ]\n",
    "\n",
    "# reshape into X=t,t+1,t+2,t+3 and Y=t+4\n",
    "time_step = 100\n",
    "X_train, y_train = create_model_dataset(train_data,time_step)\n",
    "X_test, y_test = create_model_dataset(test_data,time_step)\n"
   ]
  },
  {
   "cell_type": "code",
   "execution_count": null,
   "id": "a88d60bd-00c1-4233-8772-260055764c06",
   "metadata": {},
   "outputs": [],
   "source": [
    "# for LSTM we need to reshape our X_train and X_test to be [samples, time steps and batch_size]\n",
    "X_train = X_train.reshape(X_train.shape[0],X_train.shape[1],1)\n",
    "X_test = X_test.reshape(X_test.shape[0],X_test.shape[1],1)"
   ]
  },
  {
   "cell_type": "code",
   "execution_count": null,
   "id": "d521ecfb-3728-4ebd-992f-b5b959bded9c",
   "metadata": {},
   "outputs": [],
   "source": [
    "# Create LSTM model\n",
    "model = Sequential()\n",
    "model.add(LSTM(50,return_sequences=True,input_shape=(time_step,1)))\n",
    "model.add(LSTM(50,return_sequences=True))\n",
    "model.add(LSTM(50))\n",
    "model.add(Dense(1))\n",
    "model.compile(loss='mean_squared_error',optimizer= 'adam')\n",
    "model.summary()"
   ]
  },
  {
   "cell_type": "code",
   "execution_count": null,
   "id": "c8fafbe2-adf2-4648-b126-c76208c3958a",
   "metadata": {},
   "outputs": [],
   "source": [
    "# Train the model\n",
    "model.fit(X_train,y_train,validation_data=(X_test,y_test), epochs=100,batch_size=64,verbose=1)"
   ]
  },
  {
   "cell_type": "code",
   "execution_count": null,
   "id": "77e7504e-eda5-4ce3-8658-3a077c6e8343",
   "metadata": {},
   "outputs": [],
   "source": [
    "# Make Predictions using trained model\n",
    "train_predict = model.predict(X_train)\n",
    "test_predict = model.predict(X_test)\n"
   ]
  },
  {
   "cell_type": "code",
   "execution_count": null,
   "id": "4352d94e-4410-4f22-ab9c-faba6c1d896e",
   "metadata": {},
   "outputs": [],
   "source": [
    "#Transform predicted data to original form\n",
    "train_predict = minmax_scaler.inverse_transform(train_predict)\n",
    "test_predict= minmax_scaler.inverse_transform(test_predict)"
   ]
  },
  {
   "cell_type": "code",
   "execution_count": null,
   "id": "0fb70857-2ed8-406a-aab7-14da88ba5b66",
   "metadata": {},
   "outputs": [],
   "source": [
    "# Calculate RMSE for both train data\n",
    "math.sqrt(mean_squared_error(y_train,train_predict))"
   ]
  },
  {
   "cell_type": "code",
   "execution_count": null,
   "id": "dd8d40ff-54a9-439c-a2f6-b30b815b1884",
   "metadata": {},
   "outputs": [],
   "source": [
    "# Calculate RMSE for test data\n",
    "math.sqrt(mean_squared_error(y_test,test_predict))"
   ]
  },
  {
   "cell_type": "code",
   "execution_count": null,
   "id": "2d217a8f-4ca0-439a-bf9f-aac94b2d7c96",
   "metadata": {},
   "outputs": [],
   "source": [
    "# Plot for comparing actual data with train predictions, test predictons\n",
    "# as we considers time step of 100, going back 100 days to better visualistion\n",
    "\n",
    "back_time = time_step\n",
    "# shift train predictions\n",
    "\n",
    "trainpredict_plt = np.empty_like(tsla_feature_df)\n",
    "trainpredict_plt[:,:] = np.nan\n",
    "trainpredict_plt[back_time: len(train_predict) + back_time ,: ] = train_predict\n",
    "\n",
    "# shift test predictions\n",
    "testpredict_plt = np.empty_like(tsla_feature_df)\n",
    "testpredict_plt[:,:] = np.nan\n",
    "testpredict_plt[len(train_predict)+(back_time*2)+1: len(tsla_feature_df)-1,: ] = test_predict\n",
    "\n",
    "plt.plot(minmax_scaler.inverse_transform(tsla_feature_df),label=\"Historical Price\")\n",
    "plt.plot(trainpredict_plt, label=\"Train Predictions\")\n",
    "plt.plot(testpredict_plt,label=\"Test Predictions\")\n",
    "plt.ylabel(\"Open Price\")\n",
    "plt.xlabel(\"Number of days\")\n",
    "plt.legend()\n",
    "plt.title(\"LSTM performance for TSLA stock historical data\")\n",
    "plt.savefig(\"Resources/Images/LSTMTrain.png\")\n",
    "plt.show()"
   ]
  },
  {
   "cell_type": "code",
   "execution_count": null,
   "id": "4df08963-478b-4f95-8137-1e11019fcc7c",
   "metadata": {},
   "outputs": [],
   "source": [
    "x_input = test_data[test_data_size-time_step:].reshape(1,-1)\n",
    "x_moving_input = list(x_input)\n",
    "x_moving_input=x_input[0].tolist()\n"
   ]
  },
  {
   "cell_type": "code",
   "execution_count": null,
   "id": "48a88c3c-ee3b-4076-aa86-db8f6124c18b",
   "metadata": {},
   "outputs": [],
   "source": [
    "# predictions for next 30 days\n",
    "num_days = 30\n",
    "output_l = []\n",
    "count = 0\n",
    "while(count < num_days):\n",
    "    if(len(x_moving_input) > time_step):\n",
    "        x_input=np.array(x_moving_input[1:])\n",
    "        # print(\"{} day input {}\".format(count,x_input))\n",
    "        x_input = x_input.reshape(1,-1)\n",
    "        x_input = x_input.reshape(1,time_step,1)\n",
    "        yhat = model.predict(x_input, verbose=0)\n",
    "        # print(\"{} day input {}\".format(count,yhat))\n",
    "        x_moving_input.extend(yhat[0].tolist())\n",
    "        x_moving_input = x_moving_input[1:]\n",
    "        output_l.extend(yhat.tolist())\n",
    "    else:\n",
    "        x_input = x_input.reshape(1,time_step,1)\n",
    "        yhat = model.predict(x_input, verbose=0)\n",
    "        # print(yhat[0])\n",
    "        x_moving_input.extend(yhat[0].tolist())        \n",
    "        # print(len(x_moving_input))\n",
    "        output_l.extend(yhat.tolist())\n",
    "        \n",
    "    count = count +1\n",
    "    \n",
    "# print(output_l)"
   ]
  },
  {
   "cell_type": "code",
   "execution_count": null,
   "id": "f6967454-ac48-4219-bd52-4c08336ddca2",
   "metadata": {},
   "outputs": [],
   "source": [
    "day_new=np.arange(1,time_step+1)\n",
    "day_pred=np.arange(time_step+1,time_step+num_days+1)\n",
    "\n",
    "plt.plot(day_new,minmax_scaler.inverse_transform(tsla_feature_df[len(tsla_feature_df)-time_step:]),label=\"Historical Price\")\n",
    "plt.plot(day_pred,minmax_scaler.inverse_transform(output_l),label=\"Predicted Price\")\n",
    "plt.ylabel(\"Open Price\")\n",
    "plt.xlabel(\"Number of days\")\n",
    "plt.legend()\n",
    "plt.title(\"TSLA stock historical & forecasted open price\\nNext 30 days price forecasted using LSTM\")\n",
    "plt.savefig(\"Resources/Images/LSTMPredict.png\")\n",
    "plt.show()"
   ]
  },
  {
   "cell_type": "markdown",
   "id": "b17b197b-651a-4c83-a175-3c6f0808e4d7",
   "metadata": {
    "jp-MarkdownHeadingCollapsed": true,
    "tags": []
   },
   "source": [
    "# LSTM Analysis\n",
    "\n",
    "Model performed really well on training and testing data. The difference between training and testing root mean squared error is just 8.71<br>\n",
    "<br>\n",
    "Root mean squared error for training data is 17.98<br>\n",
    "Root mean squared error for testing data is 26.69<br>"
   ]
  }
 ],
 "metadata": {
  "kernelspec": {
   "display_name": "Python 3.9 (tensorflow)",
   "language": "python",
   "name": "tensorflow"
  },
  "language_info": {
   "codemirror_mode": {
    "name": "ipython",
    "version": 3
   },
   "file_extension": ".py",
   "mimetype": "text/x-python",
   "name": "python",
   "nbconvert_exporter": "python",
   "pygments_lexer": "ipython3",
   "version": "3.9.13"
  }
 },
 "nbformat": 4,
 "nbformat_minor": 5
}
