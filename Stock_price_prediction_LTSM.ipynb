{
 "cells": [
  {
   "cell_type": "code",
   "execution_count": 1,
   "id": "11d1a658-b8a1-420e-9392-c44926bf9793",
   "metadata": {},
   "outputs": [],
   "source": [
    "import numpy as np\n",
    "import pandas as pd\n",
    "import matplotlib.pyplot as plt\n",
    "import math\n",
    "\n",
    "from sklearn.preprocessing import MinMaxScaler\n",
    "from keras.models import Sequential\n",
    "from keras.layers import Dense,LSTM\n",
    "from sklearn.metrics import mean_squared_error\n",
    "import pandas_datareader as dr\n"
   ]
  },
  {
   "cell_type": "code",
   "execution_count": 2,
   "id": "190aca5f-1468-467a-b9c6-09bb19135b7a",
   "metadata": {},
   "outputs": [
    {
     "data": {
      "text/html": [
       "<div>\n",
       "<style scoped>\n",
       "    .dataframe tbody tr th:only-of-type {\n",
       "        vertical-align: middle;\n",
       "    }\n",
       "\n",
       "    .dataframe tbody tr th {\n",
       "        vertical-align: top;\n",
       "    }\n",
       "\n",
       "    .dataframe thead th {\n",
       "        text-align: right;\n",
       "    }\n",
       "</style>\n",
       "<table border=\"1\" class=\"dataframe\">\n",
       "  <thead>\n",
       "    <tr style=\"text-align: right;\">\n",
       "      <th></th>\n",
       "      <th>high_value</th>\n",
       "      <th>low_value</th>\n",
       "      <th>open_value</th>\n",
       "      <th>close_value</th>\n",
       "      <th>volume</th>\n",
       "      <th>Adj Close</th>\n",
       "    </tr>\n",
       "    <tr>\n",
       "      <th>Date</th>\n",
       "      <th></th>\n",
       "      <th></th>\n",
       "      <th></th>\n",
       "      <th></th>\n",
       "      <th></th>\n",
       "      <th></th>\n",
       "    </tr>\n",
       "  </thead>\n",
       "  <tbody>\n",
       "    <tr>\n",
       "      <th>2015-01-02</th>\n",
       "      <td>14.883333</td>\n",
       "      <td>14.217333</td>\n",
       "      <td>14.858000</td>\n",
       "      <td>14.620667</td>\n",
       "      <td>71466000</td>\n",
       "      <td>14.620667</td>\n",
       "    </tr>\n",
       "    <tr>\n",
       "      <th>2015-01-05</th>\n",
       "      <td>14.433333</td>\n",
       "      <td>13.810667</td>\n",
       "      <td>14.303333</td>\n",
       "      <td>14.006000</td>\n",
       "      <td>80527500</td>\n",
       "      <td>14.006000</td>\n",
       "    </tr>\n",
       "    <tr>\n",
       "      <th>2015-01-06</th>\n",
       "      <td>14.280000</td>\n",
       "      <td>13.614000</td>\n",
       "      <td>14.004000</td>\n",
       "      <td>14.085333</td>\n",
       "      <td>93928500</td>\n",
       "      <td>14.085333</td>\n",
       "    </tr>\n",
       "    <tr>\n",
       "      <th>2015-01-07</th>\n",
       "      <td>14.318667</td>\n",
       "      <td>13.985333</td>\n",
       "      <td>14.223333</td>\n",
       "      <td>14.063333</td>\n",
       "      <td>44526000</td>\n",
       "      <td>14.063333</td>\n",
       "    </tr>\n",
       "    <tr>\n",
       "      <th>2015-01-08</th>\n",
       "      <td>14.253333</td>\n",
       "      <td>14.000667</td>\n",
       "      <td>14.187333</td>\n",
       "      <td>14.041333</td>\n",
       "      <td>51637500</td>\n",
       "      <td>14.041333</td>\n",
       "    </tr>\n",
       "  </tbody>\n",
       "</table>\n",
       "</div>"
      ],
      "text/plain": [
       "            high_value  low_value  open_value  close_value    volume  \\\n",
       "Date                                                                   \n",
       "2015-01-02   14.883333  14.217333   14.858000    14.620667  71466000   \n",
       "2015-01-05   14.433333  13.810667   14.303333    14.006000  80527500   \n",
       "2015-01-06   14.280000  13.614000   14.004000    14.085333  93928500   \n",
       "2015-01-07   14.318667  13.985333   14.223333    14.063333  44526000   \n",
       "2015-01-08   14.253333  14.000667   14.187333    14.041333  51637500   \n",
       "\n",
       "            Adj Close  \n",
       "Date                   \n",
       "2015-01-02  14.620667  \n",
       "2015-01-05  14.006000  \n",
       "2015-01-06  14.085333  \n",
       "2015-01-07  14.063333  \n",
       "2015-01-08  14.041333  "
      ]
     },
     "metadata": {},
     "output_type": "display_data"
    },
    {
     "data": {
      "text/html": [
       "<div>\n",
       "<style scoped>\n",
       "    .dataframe tbody tr th:only-of-type {\n",
       "        vertical-align: middle;\n",
       "    }\n",
       "\n",
       "    .dataframe tbody tr th {\n",
       "        vertical-align: top;\n",
       "    }\n",
       "\n",
       "    .dataframe thead th {\n",
       "        text-align: right;\n",
       "    }\n",
       "</style>\n",
       "<table border=\"1\" class=\"dataframe\">\n",
       "  <thead>\n",
       "    <tr style=\"text-align: right;\">\n",
       "      <th></th>\n",
       "      <th>high_value</th>\n",
       "      <th>low_value</th>\n",
       "      <th>open_value</th>\n",
       "      <th>close_value</th>\n",
       "      <th>volume</th>\n",
       "      <th>Adj Close</th>\n",
       "    </tr>\n",
       "    <tr>\n",
       "      <th>Date</th>\n",
       "      <th></th>\n",
       "      <th></th>\n",
       "      <th></th>\n",
       "      <th></th>\n",
       "      <th></th>\n",
       "      <th></th>\n",
       "    </tr>\n",
       "  </thead>\n",
       "  <tbody>\n",
       "    <tr>\n",
       "      <th>2020-05-22</th>\n",
       "      <td>55.452000</td>\n",
       "      <td>54.133331</td>\n",
       "      <td>54.811333</td>\n",
       "      <td>54.458668</td>\n",
       "      <td>149812500</td>\n",
       "      <td>54.458668</td>\n",
       "    </tr>\n",
       "    <tr>\n",
       "      <th>2020-05-26</th>\n",
       "      <td>55.639999</td>\n",
       "      <td>54.380669</td>\n",
       "      <td>55.633331</td>\n",
       "      <td>54.591331</td>\n",
       "      <td>121345500</td>\n",
       "      <td>54.591331</td>\n",
       "    </tr>\n",
       "    <tr>\n",
       "      <th>2020-05-27</th>\n",
       "      <td>55.180668</td>\n",
       "      <td>52.333332</td>\n",
       "      <td>54.723999</td>\n",
       "      <td>54.681999</td>\n",
       "      <td>173242500</td>\n",
       "      <td>54.681999</td>\n",
       "    </tr>\n",
       "    <tr>\n",
       "      <th>2020-05-28</th>\n",
       "      <td>54.983334</td>\n",
       "      <td>53.445999</td>\n",
       "      <td>54.234001</td>\n",
       "      <td>53.720669</td>\n",
       "      <td>108834000</td>\n",
       "      <td>53.720669</td>\n",
       "    </tr>\n",
       "    <tr>\n",
       "      <th>2020-05-29</th>\n",
       "      <td>55.666668</td>\n",
       "      <td>53.613998</td>\n",
       "      <td>53.916668</td>\n",
       "      <td>55.666668</td>\n",
       "      <td>176467500</td>\n",
       "      <td>55.666668</td>\n",
       "    </tr>\n",
       "  </tbody>\n",
       "</table>\n",
       "</div>"
      ],
      "text/plain": [
       "            high_value  low_value  open_value  close_value     volume  \\\n",
       "Date                                                                    \n",
       "2020-05-22   55.452000  54.133331   54.811333    54.458668  149812500   \n",
       "2020-05-26   55.639999  54.380669   55.633331    54.591331  121345500   \n",
       "2020-05-27   55.180668  52.333332   54.723999    54.681999  173242500   \n",
       "2020-05-28   54.983334  53.445999   54.234001    53.720669  108834000   \n",
       "2020-05-29   55.666668  53.613998   53.916668    55.666668  176467500   \n",
       "\n",
       "            Adj Close  \n",
       "Date                   \n",
       "2020-05-22  54.458668  \n",
       "2020-05-26  54.591331  \n",
       "2020-05-27  54.681999  \n",
       "2020-05-28  53.720669  \n",
       "2020-05-29  55.666668  "
      ]
     },
     "metadata": {},
     "output_type": "display_data"
    },
    {
     "name": "stdout",
     "output_type": "stream",
     "text": [
      "Stored 'tsla_tweets_df' (DataFrame)\n",
      "Stored 'tsla_stock_values_df' (DataFrame)\n",
      "Stored 'ta_df' (DataFrame)\n",
      "Stored 'tsla_sentiments_df' (DataFrame)\n",
      "Stored 'tsla_sentiments_df_textblob' (DataFrame)\n"
     ]
    }
   ],
   "source": [
    "%run PrepareData.ipynb"
   ]
  },
  {
   "cell_type": "code",
   "execution_count": 3,
   "id": "480f41b7-dc4d-488d-bc97-3df9a1066ce5",
   "metadata": {},
   "outputs": [
    {
     "name": "stdout",
     "output_type": "stream",
     "text": [
      "<class 'pandas.core.frame.DataFrame'>\n",
      "DatetimeIndex: 1361 entries, 2015-01-02 to 2020-05-29\n",
      "Data columns (total 6 columns):\n",
      " #   Column       Non-Null Count  Dtype  \n",
      "---  ------       --------------  -----  \n",
      " 0   high_value   1361 non-null   float64\n",
      " 1   low_value    1361 non-null   float64\n",
      " 2   open_value   1361 non-null   float64\n",
      " 3   close_value  1361 non-null   float64\n",
      " 4   volume       1361 non-null   int64  \n",
      " 5   Adj Close    1361 non-null   float64\n",
      "dtypes: float64(5), int64(1)\n",
      "memory usage: 74.4 KB\n"
     ]
    }
   ],
   "source": [
    "# tsla_stock_values_df.info()"
   ]
  },
  {
   "cell_type": "code",
   "execution_count": 5,
   "id": "6bb6251f-fcc0-40e3-80bf-ae6f3fb64654",
   "metadata": {},
   "outputs": [],
   "source": [
    "tsla_feature_df = tsla_stock_values_df[\"close_value\"]\n",
    "# tsla_feature_df.info()"
   ]
  },
  {
   "cell_type": "code",
   "execution_count": 6,
   "id": "44bd36d1-7e7f-4bec-a298-fdc867203cc9",
   "metadata": {},
   "outputs": [
    {
     "data": {
      "text/plain": [
       "<AxesSubplot:xlabel='Date'>"
      ]
     },
     "execution_count": 6,
     "metadata": {},
     "output_type": "execute_result"
    },
    {
     "data": {
      "image/png": "[encoded data removed]",
      "text/plain": [
       "<Figure size 640x480 with 1 Axes>"
      ]
     },
     "metadata": {},
     "output_type": "display_data"
    }
   ],
   "source": [
    "tsla_feature_df.plot()"
   ]
  },
  {
   "cell_type": "code",
   "execution_count": 7,
   "id": "48d5542b-ce83-4345-ae33-814f64f4dcbb",
   "metadata": {},
   "outputs": [
    {
     "data": {
      "text/plain": [
       "array([[0.09775769],\n",
       "       [0.08584167],\n",
       "       [0.08737964],\n",
       "       ...,\n",
       "       [0.87439097],\n",
       "       [0.85575452],\n",
       "       [0.89347987]])"
      ]
     },
     "execution_count": 7,
     "metadata": {},
     "output_type": "execute_result"
    }
   ],
   "source": [
    "minmax_scaler = MinMaxScaler(feature_range = (0,1))\n",
    "tsla_feature_df = minmax_scaler.fit_transform(np.array(tsla_feature_df).reshape(-1,1))"
   ]
  },
  {
   "cell_type": "code",
   "execution_count": 23,
   "id": "befafbed-3959-49d3-b2b3-775fb24aa623",
   "metadata": {},
   "outputs": [],
   "source": [
    "# This function is used to pre-process the data, where in we are converting data into dependent and independent data based on timestamp\n",
    "def create_model_dataset(dataset,time_step):\n",
    "    XData, YData = [],[]    \n",
    "    # print(len(dataset)-time_step-1)\n",
    "    for i in range(len(dataset)-time_step-1):\n",
    "        t = i + time_step\n",
    "        data = dataset[i : i+time_step,0]\n",
    "        XData.append(data)        \n",
    "        YData.append(dataset[i+time_step,0])\n",
    "    return np.array(XData),np.array(YData)   \n"
   ]
  },
  {
   "cell_type": "code",
   "execution_count": 9,
   "id": "cd41a034-b689-4f87-8866-da764ae855a4",
   "metadata": {},
   "outputs": [
    {
     "data": {
      "text/plain": [
       "array([0.19030695, 0.18053636, 0.18777383, 0.18906626, 0.17028756,\n",
       "       0.16261066, 0.16      , 0.16792246, 0.16846527, 0.1562003 ,\n",
       "       0.15088855, 0.16038773, 0.16951213, 0.17441035, 0.17601293,\n",
       "       0.18805818, 0.18379321, 0.19145721, 0.16040064, 0.16968015,\n",
       "       0.16740549, 0.16625524, 0.17110177, 0.16122779, 0.16029725,\n",
       "       0.15859129, 0.1676123 , 0.16485947, 0.16748303, 0.15389984,\n",
       "       0.15538609, 0.14861389, 0.13435865, 0.11821648, 0.12639741,\n",
       "       0.12280454, 0.11675607, 0.12979644, 0.14392248, 0.14432311,\n",
       "       0.13362198, 0.13075282, 0.12705655, 0.12387723, 0.10770921,\n",
       "       0.11455897, 0.1140937 , 0.10941519, 0.08705656, 0.07972861,\n",
       "       0.07936672, 0.0634055 , 0.06697255, 0.06069144, 0.05819709,\n",
       "       0.05969629, 0.05757674, 0.05362197, 0.04562196, 0.06452989,\n",
       "       0.06839418, 0.08049111, 0.07861712, 0.08944751, 0.09490146,\n",
       "       0.084769  , 0.09077868, 0.09208401, 0.10515024, 0.10477545,\n",
       "       0.10695961, 0.09815831, 0.10105331, 0.1033538 , 0.09833927,\n",
       "       0.09770598, 0.10231987, 0.10312116, 0.107916  , 0.1045299 ,\n",
       "       0.1179063 , 0.11557997, 0.11201293, 0.11165104, 0.12310179,\n",
       "       0.12268821, 0.13106301, 0.14194507, 0.14049757, 0.14370276,\n",
       "       0.14199676, 0.14799354, 0.14476254, 0.15056545, 0.15665267,\n",
       "       0.11004848, 0.1090404 , 0.11903071, 0.12741843, 0.12657833,\n",
       "       0.11654928, 0.11718257, 0.10940225, 0.11254281, 0.11599353,\n",
       "       0.1223005 , 0.11804846, 0.11029402, 0.11803555, 0.09815831,\n",
       "       0.09301455, 0.0985719 , 0.10747657, 0.10622294, 0.09972214,\n",
       "       0.10142812, 0.08753473, 0.0921874 , 0.09099839, 0.09294993,\n",
       "       0.10085947, 0.10589984, 0.1051244 , 0.09952827, 0.11103069,\n",
       "       0.10827786, 0.11388693, 0.11873346, 0.13367367, 0.132084  ,\n",
       "       0.13121809, 0.12812922, 0.13068819, 0.12900811, 0.13302748,\n",
       "       0.12529885, 0.12608726, 0.10279807, 0.10989338, 0.12780616,\n",
       "       0.12725041, 0.12562199, 0.13055899, 0.12854284, 0.11548949,\n",
       "       0.11342166, 0.12155088, 0.12456218, 0.13035219, 0.13062359,\n",
       "       0.13469466, 0.14641681, 0.14761875, 0.15002264, 0.15289176,\n",
       "       0.14640387, 0.14194507, 0.1446333 , 0.14347011, 0.20162843,\n",
       "       0.23839743, 0.23785462, 0.22300485, 0.22144106, 0.22132473,\n",
       "       0.21924394, 0.22462037, 0.22429728, 0.23639418, 0.24797416,\n",
       "       0.25004201, 0.26031666, 0.2665719 , 0.26163489, 0.26582232,\n",
       "       0.2694669 , 0.26664944, 0.27896609, 0.2695315 , 0.27290468,\n",
       "       0.24474315, 0.24900808, 0.23941842, 0.24248144, 0.24073669,\n",
       "       0.24710825, 0.24882716, 0.24473021, 0.24129244, 0.24842653,\n",
       "       0.25313084, 0.26516319, 0.27015185, 0.27917286, 0.27750569,\n",
       "       0.30737318, 0.30412927, 0.32242972, 0.33650407, 0.33850728,\n",
       "       0.35612279, 0.36391602, 0.37126982, 0.37054605, 0.35028113,\n",
       "       0.35497254, 0.37039097, 0.38686917, 0.3978934 , 0.42053636,\n",
       "       0.45036513, 0.43640711, 0.43228435, 0.49265266, 0.5095315 ,\n",
       "       0.48443296, 0.477958  , 0.47409371, 0.52152505, 0.55042333,\n",
       "       0.55383526, 0.54429728, 0.53550888, 0.54698544, 0.56519549,\n",
       "       0.64250734, 0.6551212 , 0.82239745, 0.96076255, 0.7638514 ,\n",
       "       0.78228115, 0.7811309 , 0.81112766, 0.81513409, 0.80597098,\n",
       "       0.85341519, 0.84828439, 0.92372215, 1.        , 0.97672379,\n",
       "       0.9787787 , 0.891916  , 0.84812924, 0.82084653, 0.69186432,\n",
       "       0.6776349 , 0.77537972, 0.77782236, 0.78297904, 0.75072053,\n",
       "       0.72350245, 0.60010341, 0.64834896, 0.63400329, 0.53877868,\n",
       "       0.52077547, 0.38953152, 0.37031343, 0.28116317, 0.36700485,\n",
       "       0.36686271, 0.37559938, 0.4669855 , 0.51125044, 0.49691763,\n",
       "       0.47908245, 0.46327629, 0.49154124, 0.43669146, 0.40168015,\n",
       "       0.43468824, 0.48151214, 0.51926337, 0.52364459, 0.55486918,\n",
       "       0.65561232, 0.73178679, 0.7575574 , 0.77743463, 0.78865272,\n",
       "       0.77892084, 0.70184172, 0.7605041 , 0.72628112, 0.75150893,\n",
       "       0.84663008, 0.80833604, 0.8489047 , 0.82482715, 0.72071083,\n",
       "       0.79808724, 0.80715998, 0.82573188, 0.82244914, 0.87334411,\n",
       "       0.86283684, 0.86040714, 0.83656224, 0.85254929, 0.84717289,\n",
       "       0.86586111, 0.85859776, 0.86835544, 0.88391601, 0.87006145,\n",
       "       0.87263328, 0.87439097, 0.85575452])"
      ]
     },
     "execution_count": 9,
     "metadata": {},
     "output_type": "execute_result"
    }
   ],
   "source": [
    "train_data_size = int (len(tsla_feature_df) * .7)\n",
    "test_data_size = len(tsla_feature_df) - train_data_size\n",
    "\n",
    "train_data, test_data = tsla_feature_df[0:train_data_size,:],tsla_feature_df[train_data_size:len(tsla_feature_df),:1 ]\n",
    "\n",
    "time_step = 100\n",
    "X_train, y_train = create_model_dataset(train_data,time_step)\n",
    "X_test, y_test = create_model_dataset(test_data,time_step)\n"
   ]
  },
  {
   "cell_type": "code",
   "execution_count": 10,
   "id": "a88d60bd-00c1-4233-8772-260055764c06",
   "metadata": {},
   "outputs": [],
   "source": [
    "# for LSTM we need to reshape our X_train and X_test to be [samples, time steps and batch_size]\n",
    "X_train = X_train.reshape(X_train.shape[0],X_train.shape[1],1)\n",
    "X_test = X_test.reshape(X_test.shape[0],X_test.shape[1],1)"
   ]
  },
  {
   "cell_type": "code",
   "execution_count": 11,
   "id": "d521ecfb-3728-4ebd-992f-b5b959bded9c",
   "metadata": {},
   "outputs": [
    {
     "name": "stdout",
     "output_type": "stream",
     "text": [
      "Metal device set to: Apple M1\n"
     ]
    },
    {
     "name": "stderr",
     "output_type": "stream",
     "text": [
      "2022-10-09 14:35:59.156779: I tensorflow/core/common_runtime/pluggable_device/pluggable_device_factory.cc:305] Could not identify NUMA node of platform GPU ID 0, defaulting to 0. Your kernel may not have been built with NUMA support.\n",
      "2022-10-09 14:35:59.158609: I tensorflow/core/common_runtime/pluggable_device/pluggable_device_factory.cc:271] Created TensorFlow device (/job:localhost/replica:0/task:0/device:GPU:0 with 0 MB memory) -> physical PluggableDevice (device: 0, name: METAL, pci bus id: <undefined>)\n"
     ]
    },
    {
     "name": "stdout",
     "output_type": "stream",
     "text": [
      "Model: \"sequential\"\n",
      "_________________________________________________________________\n",
      " Layer (type)                Output Shape              Param #   \n",
      "=================================================================\n",
      " lstm (LSTM)                 (None, 100, 50)           10400     \n",
      "                                                                 \n",
      " lstm_1 (LSTM)               (None, 100, 50)           20200     \n",
      "                                                                 \n",
      " lstm_2 (LSTM)               (None, 50)                20200     \n",
      "                                                                 \n",
      " dense (Dense)               (None, 1)                 51        \n",
      "                                                                 \n",
      "=================================================================\n",
      "Total params: 50,851\n",
      "Trainable params: 50,851\n",
      "Non-trainable params: 0\n",
      "_________________________________________________________________\n"
     ]
    }
   ],
   "source": [
    "# Create LSTM model\n",
    "model = Sequential()\n",
    "model.add(LSTM(50,return_sequences=True,input_shape=(time_step,1)))\n",
    "model.add(LSTM(50,return_sequences=True))\n",
    "model.add(LSTM(50))\n",
    "model.add(Dense(1))\n",
    "model.compile(loss='mean_squared_error',optimizer= 'adam')\n",
    "model.summary()"
   ]
  },
  {
   "cell_type": "code",
   "execution_count": 12,
   "id": "c8fafbe2-adf2-4648-b126-c76208c3958a",
   "metadata": {},
   "outputs": [
    {
     "name": "stdout",
     "output_type": "stream",
     "text": [
      "Epoch 1/100\n"
     ]
    },
    {
     "name": "stderr",
     "output_type": "stream",
     "text": [
      "2022-10-09 14:36:00.094533: W tensorflow/core/platform/profile_utils/cpu_utils.cc:128] Failed to get CPU frequency: 0 Hz\n",
      "2022-10-09 14:36:01.741021: I tensorflow/core/grappler/optimizers/custom_graph_optimizer_registry.cc:113] Plugin optimizer for device_type GPU is enabled.\n",
      "2022-10-09 14:36:02.029280: I tensorflow/core/grappler/optimizers/custom_graph_optimizer_registry.cc:113] Plugin optimizer for device_type GPU is enabled.\n",
      "2022-10-09 14:36:02.264192: I tensorflow/core/grappler/optimizers/custom_graph_optimizer_registry.cc:113] Plugin optimizer for device_type GPU is enabled.\n",
      "2022-10-09 14:36:02.402621: I tensorflow/core/grappler/optimizers/custom_graph_optimizer_registry.cc:113] Plugin optimizer for device_type GPU is enabled.\n",
      "2022-10-09 14:36:02.603183: I tensorflow/core/grappler/optimizers/custom_graph_optimizer_registry.cc:113] Plugin optimizer for device_type GPU is enabled.\n",
      "2022-10-09 14:36:02.932261: I tensorflow/core/grappler/optimizers/custom_graph_optimizer_registry.cc:113] Plugin optimizer for device_type GPU is enabled.\n",
      "2022-10-09 14:36:03.194548: I tensorflow/core/grappler/optimizers/custom_graph_optimizer_registry.cc:113] Plugin optimizer for device_type GPU is enabled.\n"
     ]
    },
    {
     "name": "stdout",
     "output_type": "stream",
     "text": [
      "14/14 [==============================] - ETA: 0s - loss: 0.0087"
     ]
    },
    {
     "name": "stderr",
     "output_type": "stream",
     "text": [
      "2022-10-09 14:36:05.747408: I tensorflow/core/grappler/optimizers/custom_graph_optimizer_registry.cc:113] Plugin optimizer for device_type GPU is enabled.\n",
      "2022-10-09 14:36:05.868685: I tensorflow/core/grappler/optimizers/custom_graph_optimizer_registry.cc:113] Plugin optimizer for device_type GPU is enabled.\n",
      "2022-10-09 14:36:06.045243: I tensorflow/core/grappler/optimizers/custom_graph_optimizer_registry.cc:113] Plugin optimizer for device_type GPU is enabled.\n",
      "2022-10-09 14:36:06.201287: I tensorflow/core/grappler/optimizers/custom_graph_optimizer_registry.cc:113] Plugin optimizer for device_type GPU is enabled.\n"
     ]
    },
    {
     "name": "stdout",
     "output_type": "stream",
     "text": [
      "14/14 [==============================] - 7s 262ms/step - loss: 0.0087 - val_loss: 0.0582\n",
      "Epoch 2/100\n",
      "14/14 [==============================] - 1s 79ms/step - loss: 0.0023 - val_loss: 0.0271\n",
      "Epoch 3/100\n",
      "14/14 [==============================] - 1s 75ms/step - loss: 0.0011 - val_loss: 0.0132\n",
      "Epoch 4/100\n",
      "14/14 [==============================] - 1s 72ms/step - loss: 7.7077e-04 - val_loss: 0.0119\n",
      "Epoch 5/100\n",
      "14/14 [==============================] - 1s 71ms/step - loss: 7.1248e-04 - val_loss: 0.0136\n",
      "Epoch 6/100\n",
      "14/14 [==============================] - 1s 71ms/step - loss: 6.6236e-04 - val_loss: 0.0131\n",
      "Epoch 7/100\n",
      "14/14 [==============================] - 1s 71ms/step - loss: 6.7107e-04 - val_loss: 0.0122\n",
      "Epoch 8/100\n",
      "14/14 [==============================] - 1s 70ms/step - loss: 6.3071e-04 - val_loss: 0.0110\n",
      "Epoch 9/100\n",
      "14/14 [==============================] - 1s 81ms/step - loss: 6.1649e-04 - val_loss: 0.0104\n",
      "Epoch 10/100\n",
      "14/14 [==============================] - 1s 72ms/step - loss: 5.9978e-04 - val_loss: 0.0106\n",
      "Epoch 11/100\n",
      "14/14 [==============================] - 1s 76ms/step - loss: 5.9060e-04 - val_loss: 0.0100\n",
      "Epoch 12/100\n",
      "14/14 [==============================] - 1s 71ms/step - loss: 5.7260e-04 - val_loss: 0.0097\n",
      "Epoch 13/100\n",
      "14/14 [==============================] - 1s 78ms/step - loss: 5.5696e-04 - val_loss: 0.0099\n",
      "Epoch 14/100\n",
      "14/14 [==============================] - 1s 73ms/step - loss: 5.6638e-04 - val_loss: 0.0087\n",
      "Epoch 15/100\n",
      "14/14 [==============================] - 1s 71ms/step - loss: 5.3532e-04 - val_loss: 0.0078\n",
      "Epoch 16/100\n",
      "14/14 [==============================] - 1s 72ms/step - loss: 5.3950e-04 - val_loss: 0.0076\n",
      "Epoch 17/100\n",
      "14/14 [==============================] - 1s 74ms/step - loss: 5.6950e-04 - val_loss: 0.0099\n",
      "Epoch 18/100\n",
      "14/14 [==============================] - 1s 74ms/step - loss: 5.7014e-04 - val_loss: 0.0078\n",
      "Epoch 19/100\n",
      "14/14 [==============================] - 1s 76ms/step - loss: 4.9663e-04 - val_loss: 0.0075\n",
      "Epoch 20/100\n",
      "14/14 [==============================] - 1s 76ms/step - loss: 4.8814e-04 - val_loss: 0.0071\n",
      "Epoch 21/100\n",
      "14/14 [==============================] - 1s 72ms/step - loss: 5.0393e-04 - val_loss: 0.0065\n",
      "Epoch 22/100\n",
      "14/14 [==============================] - 1s 72ms/step - loss: 4.5702e-04 - val_loss: 0.0066\n",
      "Epoch 23/100\n",
      "14/14 [==============================] - 1s 70ms/step - loss: 4.4583e-04 - val_loss: 0.0057\n",
      "Epoch 24/100\n",
      "14/14 [==============================] - 1s 82ms/step - loss: 4.5189e-04 - val_loss: 0.0063\n",
      "Epoch 25/100\n",
      "14/14 [==============================] - 1s 93ms/step - loss: 4.2012e-04 - val_loss: 0.0048\n",
      "Epoch 26/100\n",
      "14/14 [==============================] - 1s 69ms/step - loss: 4.4872e-04 - val_loss: 0.0059\n",
      "Epoch 27/100\n",
      "14/14 [==============================] - 1s 71ms/step - loss: 4.0452e-04 - val_loss: 0.0063\n",
      "Epoch 28/100\n",
      "14/14 [==============================] - 1s 73ms/step - loss: 4.1943e-04 - val_loss: 0.0045\n",
      "Epoch 29/100\n",
      "14/14 [==============================] - 1s 73ms/step - loss: 3.9982e-04 - val_loss: 0.0057\n",
      "Epoch 30/100\n",
      "14/14 [==============================] - 1s 74ms/step - loss: 3.7510e-04 - val_loss: 0.0058\n",
      "Epoch 31/100\n",
      "14/14 [==============================] - 1s 75ms/step - loss: 3.6118e-04 - val_loss: 0.0051\n",
      "Epoch 32/100\n",
      "14/14 [==============================] - 1s 70ms/step - loss: 3.6954e-04 - val_loss: 0.0054\n",
      "Epoch 33/100\n",
      "14/14 [==============================] - 1s 72ms/step - loss: 3.5261e-04 - val_loss: 0.0057\n",
      "Epoch 34/100\n",
      "14/14 [==============================] - 1s 70ms/step - loss: 3.5466e-04 - val_loss: 0.0064\n",
      "Epoch 35/100\n",
      "14/14 [==============================] - 1s 72ms/step - loss: 3.4945e-04 - val_loss: 0.0071\n",
      "Epoch 36/100\n",
      "14/14 [==============================] - 1s 71ms/step - loss: 3.3713e-04 - val_loss: 0.0071\n",
      "Epoch 37/100\n",
      "14/14 [==============================] - 1s 72ms/step - loss: 3.2813e-04 - val_loss: 0.0073\n",
      "Epoch 38/100\n",
      "14/14 [==============================] - 1s 72ms/step - loss: 3.2842e-04 - val_loss: 0.0069\n",
      "Epoch 39/100\n",
      "14/14 [==============================] - 1s 71ms/step - loss: 3.2012e-04 - val_loss: 0.0081\n",
      "Epoch 40/100\n",
      "14/14 [==============================] - 1s 76ms/step - loss: 3.2690e-04 - val_loss: 0.0054\n",
      "Epoch 41/100\n",
      "14/14 [==============================] - 1s 86ms/step - loss: 3.2299e-04 - val_loss: 0.0071\n",
      "Epoch 42/100\n",
      "14/14 [==============================] - 1s 82ms/step - loss: 3.3149e-04 - val_loss: 0.0076\n",
      "Epoch 43/100\n",
      "14/14 [==============================] - 1s 75ms/step - loss: 3.2617e-04 - val_loss: 0.0065\n",
      "Epoch 44/100\n",
      "14/14 [==============================] - 1s 70ms/step - loss: 3.1253e-04 - val_loss: 0.0062\n",
      "Epoch 45/100\n",
      "14/14 [==============================] - 1s 71ms/step - loss: 3.1010e-04 - val_loss: 0.0074\n",
      "Epoch 46/100\n",
      "14/14 [==============================] - 1s 72ms/step - loss: 2.9983e-04 - val_loss: 0.0067\n",
      "Epoch 47/100\n",
      "14/14 [==============================] - 1s 72ms/step - loss: 2.8554e-04 - val_loss: 0.0060\n",
      "Epoch 48/100\n",
      "14/14 [==============================] - 1s 73ms/step - loss: 3.0236e-04 - val_loss: 0.0071\n",
      "Epoch 49/100\n",
      "14/14 [==============================] - 1s 72ms/step - loss: 2.9561e-04 - val_loss: 0.0072\n",
      "Epoch 50/100\n",
      "14/14 [==============================] - 1s 75ms/step - loss: 2.8064e-04 - val_loss: 0.0071\n",
      "Epoch 51/100\n",
      "14/14 [==============================] - 1s 72ms/step - loss: 2.7431e-04 - val_loss: 0.0063\n",
      "Epoch 52/100\n",
      "14/14 [==============================] - 1s 75ms/step - loss: 2.7053e-04 - val_loss: 0.0083\n",
      "Epoch 53/100\n",
      "14/14 [==============================] - 1s 74ms/step - loss: 2.8975e-04 - val_loss: 0.0073\n",
      "Epoch 54/100\n",
      "14/14 [==============================] - 1s 73ms/step - loss: 2.8004e-04 - val_loss: 0.0056\n",
      "Epoch 55/100\n",
      "14/14 [==============================] - 1s 75ms/step - loss: 2.7955e-04 - val_loss: 0.0058\n",
      "Epoch 56/100\n",
      "14/14 [==============================] - 1s 72ms/step - loss: 2.5239e-04 - val_loss: 0.0067\n",
      "Epoch 57/100\n",
      "14/14 [==============================] - 1s 76ms/step - loss: 2.4770e-04 - val_loss: 0.0069\n",
      "Epoch 58/100\n",
      "14/14 [==============================] - 1s 73ms/step - loss: 2.5114e-04 - val_loss: 0.0069\n",
      "Epoch 59/100\n",
      "14/14 [==============================] - 1s 94ms/step - loss: 2.3774e-04 - val_loss: 0.0053\n",
      "Epoch 60/100\n",
      "14/14 [==============================] - 1s 74ms/step - loss: 2.3332e-04 - val_loss: 0.0057\n",
      "Epoch 61/100\n",
      "14/14 [==============================] - 1s 76ms/step - loss: 2.3109e-04 - val_loss: 0.0064\n",
      "Epoch 62/100\n",
      "14/14 [==============================] - 1s 73ms/step - loss: 2.3502e-04 - val_loss: 0.0068\n",
      "Epoch 63/100\n",
      "14/14 [==============================] - 1s 71ms/step - loss: 2.4205e-04 - val_loss: 0.0052\n",
      "Epoch 64/100\n",
      "14/14 [==============================] - 1s 72ms/step - loss: 2.1625e-04 - val_loss: 0.0048\n",
      "Epoch 65/100\n",
      "14/14 [==============================] - 1s 72ms/step - loss: 2.1292e-04 - val_loss: 0.0039\n",
      "Epoch 66/100\n",
      "14/14 [==============================] - 1s 74ms/step - loss: 2.2398e-04 - val_loss: 0.0042\n",
      "Epoch 67/100\n",
      "14/14 [==============================] - 1s 80ms/step - loss: 2.4265e-04 - val_loss: 0.0046\n",
      "Epoch 68/100\n",
      "14/14 [==============================] - 1s 75ms/step - loss: 2.4491e-04 - val_loss: 0.0062\n",
      "Epoch 69/100\n",
      "14/14 [==============================] - 1s 73ms/step - loss: 2.1381e-04 - val_loss: 0.0035\n",
      "Epoch 70/100\n",
      "14/14 [==============================] - 1s 74ms/step - loss: 1.9977e-04 - val_loss: 0.0044\n",
      "Epoch 71/100\n",
      "14/14 [==============================] - 1s 75ms/step - loss: 2.0632e-04 - val_loss: 0.0050\n",
      "Epoch 72/100\n",
      "14/14 [==============================] - 1s 78ms/step - loss: 1.9244e-04 - val_loss: 0.0033\n",
      "Epoch 73/100\n",
      "14/14 [==============================] - 1s 88ms/step - loss: 1.9138e-04 - val_loss: 0.0037\n",
      "Epoch 74/100\n",
      "14/14 [==============================] - 1s 92ms/step - loss: 1.8470e-04 - val_loss: 0.0035\n",
      "Epoch 75/100\n",
      "14/14 [==============================] - 1s 73ms/step - loss: 1.8448e-04 - val_loss: 0.0031\n",
      "Epoch 76/100\n",
      "14/14 [==============================] - 1s 78ms/step - loss: 1.8111e-04 - val_loss: 0.0037\n",
      "Epoch 77/100\n",
      "14/14 [==============================] - 1s 76ms/step - loss: 1.7504e-04 - val_loss: 0.0030\n",
      "Epoch 78/100\n",
      "14/14 [==============================] - 1s 74ms/step - loss: 1.7972e-04 - val_loss: 0.0032\n",
      "Epoch 79/100\n",
      "14/14 [==============================] - 1s 77ms/step - loss: 1.7826e-04 - val_loss: 0.0030\n",
      "Epoch 80/100\n",
      "14/14 [==============================] - 1s 75ms/step - loss: 1.7921e-04 - val_loss: 0.0023\n",
      "Epoch 81/100\n",
      "14/14 [==============================] - 1s 77ms/step - loss: 1.6372e-04 - val_loss: 0.0034\n",
      "Epoch 82/100\n",
      "14/14 [==============================] - 1s 86ms/step - loss: 1.6448e-04 - val_loss: 0.0026\n",
      "Epoch 83/100\n",
      "14/14 [==============================] - 1s 82ms/step - loss: 1.6608e-04 - val_loss: 0.0034\n",
      "Epoch 84/100\n",
      "14/14 [==============================] - 2s 183ms/step - loss: 1.5802e-04 - val_loss: 0.0022\n",
      "Epoch 85/100\n",
      "14/14 [==============================] - 1s 78ms/step - loss: 1.7686e-04 - val_loss: 0.0028\n",
      "Epoch 86/100\n",
      "14/14 [==============================] - 1s 76ms/step - loss: 1.6190e-04 - val_loss: 0.0031\n",
      "Epoch 87/100\n",
      "14/14 [==============================] - 1s 76ms/step - loss: 1.5476e-04 - val_loss: 0.0026\n",
      "Epoch 88/100\n",
      "14/14 [==============================] - 1s 76ms/step - loss: 1.5144e-04 - val_loss: 0.0031\n",
      "Epoch 89/100\n",
      "14/14 [==============================] - 1s 72ms/step - loss: 1.5759e-04 - val_loss: 0.0029\n",
      "Epoch 90/100\n",
      "14/14 [==============================] - 1s 73ms/step - loss: 1.5013e-04 - val_loss: 0.0026\n",
      "Epoch 91/100\n",
      "14/14 [==============================] - 1s 74ms/step - loss: 1.4254e-04 - val_loss: 0.0021\n",
      "Epoch 92/100\n",
      "14/14 [==============================] - 1s 72ms/step - loss: 1.4203e-04 - val_loss: 0.0030\n",
      "Epoch 93/100\n",
      "14/14 [==============================] - 1s 72ms/step - loss: 1.4201e-04 - val_loss: 0.0019\n",
      "Epoch 94/100\n",
      "14/14 [==============================] - 1s 75ms/step - loss: 1.4244e-04 - val_loss: 0.0029\n",
      "Epoch 95/100\n",
      "14/14 [==============================] - 1s 70ms/step - loss: 1.3217e-04 - val_loss: 0.0026\n",
      "Epoch 96/100\n",
      "14/14 [==============================] - 1s 72ms/step - loss: 1.4823e-04 - val_loss: 0.0026\n",
      "Epoch 97/100\n",
      "14/14 [==============================] - 1s 85ms/step - loss: 1.4855e-04 - val_loss: 0.0020\n",
      "Epoch 98/100\n",
      "14/14 [==============================] - 1s 73ms/step - loss: 1.3820e-04 - val_loss: 0.0033\n",
      "Epoch 99/100\n",
      "14/14 [==============================] - 1s 72ms/step - loss: 1.4044e-04 - val_loss: 0.0018\n",
      "Epoch 100/100\n",
      "14/14 [==============================] - 1s 70ms/step - loss: 1.4630e-04 - val_loss: 0.0036\n"
     ]
    },
    {
     "data": {
      "text/plain": [
       "<keras.callbacks.History at 0x309a14d30>"
      ]
     },
     "execution_count": 12,
     "metadata": {},
     "output_type": "execute_result"
    }
   ],
   "source": [
    "model.fit(X_train,y_train,validation_data=(X_test,y_test), epochs=100,batch_size=64,verbose=1)"
   ]
  },
  {
   "cell_type": "code",
   "execution_count": 13,
   "id": "77e7504e-eda5-4ce3-8658-3a077c6e8343",
   "metadata": {},
   "outputs": [
    {
     "name": "stderr",
     "output_type": "stream",
     "text": [
      "2022-10-09 14:37:52.396812: I tensorflow/core/grappler/optimizers/custom_graph_optimizer_registry.cc:113] Plugin optimizer for device_type GPU is enabled.\n",
      "2022-10-09 14:37:52.507082: I tensorflow/core/grappler/optimizers/custom_graph_optimizer_registry.cc:113] Plugin optimizer for device_type GPU is enabled.\n",
      "2022-10-09 14:37:52.737871: I tensorflow/core/grappler/optimizers/custom_graph_optimizer_registry.cc:113] Plugin optimizer for device_type GPU is enabled.\n",
      "2022-10-09 14:37:52.866051: I tensorflow/core/grappler/optimizers/custom_graph_optimizer_registry.cc:113] Plugin optimizer for device_type GPU is enabled.\n"
     ]
    },
    {
     "name": "stdout",
     "output_type": "stream",
     "text": [
      "27/27 [==============================] - 3s 43ms/step\n",
      "10/10 [==============================] - 1s 65ms/step\n"
     ]
    }
   ],
   "source": [
    "# Prediction\n",
    "train_predict = model.predict(X_train)\n",
    "test_predict = model.predict(X_test)\n"
   ]
  },
  {
   "cell_type": "code",
   "execution_count": 14,
   "id": "4352d94e-4410-4f22-ab9c-faba6c1d896e",
   "metadata": {},
   "outputs": [],
   "source": [
    "#Transform predicted data to original form\n",
    "train_predict = minmax_scaler.inverse_transform(train_predict)\n",
    "test_predict= minmax_scaler.inverse_transform(test_predict)"
   ]
  },
  {
   "cell_type": "code",
   "execution_count": 15,
   "id": "0fb70857-2ed8-406a-aab7-14da88ba5b66",
   "metadata": {},
   "outputs": [
    {
     "data": {
      "text/plain": [
       "17.950533092790796"
      ]
     },
     "execution_count": 15,
     "metadata": {},
     "output_type": "execute_result"
    }
   ],
   "source": [
    "# Calculate RMSE for both train and test data\n",
    "import math\n",
    "math.sqrt(mean_squared_error(y_train,train_predict))"
   ]
  },
  {
   "cell_type": "code",
   "execution_count": 16,
   "id": "dd8d40ff-54a9-439c-a2f6-b30b815b1884",
   "metadata": {},
   "outputs": [
    {
     "data": {
      "text/plain": [
       "27.27316252605163"
      ]
     },
     "execution_count": 16,
     "metadata": {},
     "output_type": "execute_result"
    }
   ],
   "source": [
    "math.sqrt(mean_squared_error(y_test,test_predict))"
   ]
  },
  {
   "cell_type": "code",
   "execution_count": 17,
   "id": "2d217a8f-4ca0-439a-bf9f-aac94b2d7c96",
   "metadata": {},
   "outputs": [
    {
     "name": "stderr",
     "output_type": "stream",
     "text": [
      "No artists with labels found to put in legend.  Note that artists whose label start with an underscore are ignored when legend() is called with no argument.\n"
     ]
    },
    {
     "name": "stdout",
     "output_type": "stream",
     "text": [
      "851\n"
     ]
    },
    {
     "data": {
      "image/png": "[encoded data removed]",
      "text/plain": [
       "<Figure size 640x480 with 1 Axes>"
      ]
     },
     "metadata": {},
     "output_type": "display_data"
    }
   ],
   "source": [
    "# Plot for comparing actual data with train predictions, test predictons\n",
    "# as we considers time step of 100, going back 100 days to better visualistion\n",
    "\n",
    "back_time = 100\n",
    "print(len(train_predict))\n",
    "# shift train predictions\n",
    "# print(minmax_scaler.inverse_transform(tsla_feature_df))\n",
    "trainpredict_plt = np.empty_like(tsla_feature_df)\n",
    "trainpredict_plt[:,:] = np.nan\n",
    "trainpredict_plt[back_time: len(train_predict) + back_time ,: ] = train_predict\n",
    "\n",
    "# shift test predictions\n",
    "testpredict_plt = np.empty_like(tsla_feature_df)\n",
    "testpredict_plt[:,:] = np.nan\n",
    "testpredict_plt[len(train_predict)+(back_time*2)+1: len(tsla_feature_df)-1,: ] = test_predict\n",
    "\n",
    "plt.plot(minmax_scaler.inverse_transform(tsla_feature_df))\n",
    "plt.plot(trainpredict_plt)\n",
    "plt.plot(testpredict_plt)\n",
    "plt.legend()\n",
    "plt.show()"
   ]
  },
  {
   "cell_type": "code",
   "execution_count": 18,
   "id": "beeecf33-b00f-4c0e-9a98-c3f78dc5a503",
   "metadata": {},
   "outputs": [
    {
     "name": "stdout",
     "output_type": "stream",
     "text": [
      "409\n"
     ]
    }
   ],
   "source": [
    "test_data_size = len(test_data)\n",
    "print(test_data_size)"
   ]
  },
  {
   "cell_type": "code",
   "execution_count": 19,
   "id": "4df08963-478b-4f95-8137-1e11019fcc7c",
   "metadata": {},
   "outputs": [],
   "source": [
    "x_input = test_data[test_data_size-time_step:].reshape(1,-1)\n",
    "x_moving_input = list(x_input)\n",
    "x_moving_input=x_input[0].tolist()\n"
   ]
  },
  {
   "cell_type": "code",
   "execution_count": 20,
   "id": "48a88c3c-ee3b-4076-aa86-db8f6124c18b",
   "metadata": {},
   "outputs": [
    {
     "name": "stdout",
     "output_type": "stream",
     "text": [
      "[[0.7803387641906738], [0.6597915291786194], [0.5414950847625732], [0.456417053937912], [0.41063597798347473], [0.3996579051017761], [0.41246849298477173], [0.4373141825199127], [0.4650604724884033], [0.4896262586116791], [0.5072823762893677], [0.5162094831466675], [0.5164586901664734], [0.5097848773002625], [0.4989793300628662], [0.48687535524368286], [0.4755159616470337], [0.46580854058265686], [0.45765939354896545], [0.450368732213974], [0.4430660903453827], [0.4350489675998688], [0.42597123980522156], [0.41588321328163147], [0.40515345335006714], [0.39432159066200256], [0.3839356005191803], [0.3744225800037384], [0.3660207688808441], [0.3587740659713745]]\n"
     ]
    }
   ],
   "source": [
    "# predictions for next 30 days\n",
    "num_days = 30\n",
    "output_l = []\n",
    "count = 0\n",
    "while(count < num_days):\n",
    "    if(len(x_moving_input) > time_step):\n",
    "        x_input=np.array(x_moving_input[1:])\n",
    "        # print(\"{} day input {}\".format(count,x_input))\n",
    "        x_input = x_input.reshape(1,-1)\n",
    "        x_input = x_input.reshape(1,time_step,1)\n",
    "        yhat = model.predict(x_input, verbose=0)\n",
    "        # print(\"{} day input {}\".format(count,yhat))\n",
    "        x_moving_input.extend(yhat[0].tolist())\n",
    "        x_moving_input = x_moving_input[1:]\n",
    "        output_l.extend(yhat.tolist())\n",
    "    else:\n",
    "        x_input = x_input.reshape(1,time_step,1)\n",
    "        yhat = model.predict(x_input, verbose=0)\n",
    "        # print(yhat[0])\n",
    "        x_moving_input.extend(yhat[0].tolist())        \n",
    "        # print(len(x_moving_input))\n",
    "        output_l.extend(yhat.tolist())\n",
    "        \n",
    "    count = count +1\n",
    "    \n",
    "print(output_l)"
   ]
  },
  {
   "cell_type": "code",
   "execution_count": 21,
   "id": "2d7ce830-06f5-4946-820e-e735f4363791",
   "metadata": {},
   "outputs": [],
   "source": [
    "# plot_predicted_value = minmax_scaler.inverse_transform(output_l)\n",
    "# print(plot_predicted_value)"
   ]
  },
  {
   "cell_type": "code",
   "execution_count": 22,
   "id": "f6967454-ac48-4219-bd52-4c08336ddca2",
   "metadata": {},
   "outputs": [
    {
     "name": "stderr",
     "output_type": "stream",
     "text": [
      "No artists with labels found to put in legend.  Note that artists whose label start with an underscore are ignored when legend() is called with no argument.\n"
     ]
    },
    {
     "data": {
      "image/png": "[encoded data removed]",
      "text/plain": [
       "<Figure size 640x480 with 1 Axes>"
      ]
     },
     "metadata": {},
     "output_type": "display_data"
    }
   ],
   "source": [
    "data_source = 'yahoo'\n",
    "# print(tsla_stock_values_df.index.max())\n",
    "start_date = tsla_stock_values_df.index.max() + pd.DateOffset(days=1) \n",
    "end_date = start_date + pd.DateOffset(days=30) \n",
    "# start_date = pd.to_datetime(\"2015-01-01\")\n",
    "# end_date = pd.to_datetime(\"2020-05-29\")\n",
    "# start_date + pd.DateOffset(days=30) \n",
    "\n",
    "actual_price_30days_df = dr.DataReader(\"TSLA\", data_source, start_date, end_date)\n",
    "actual_price_30days_df = actual_price_30days_df.rename({\"Date\": \"day_value\", \"High\": \"high_value\",\n",
    "                                       \"Low\":\"low_value\", \"Open\":\"open_value\",\n",
    "                                       \"Close\":\"close_value\",\n",
    "                                       \"Volume\":\"volume\"},axis=1)\n",
    "# display(actual_price_30days_df.head())\n",
    "# print(np.array(actual_price_30days_df[\"Close\"]))\n",
    "plt.plot(minmax_scaler.inverse_transform(tsla_feature_df))\n",
    "# plt.plot(np.array(actual_price_30days_df[\"Close\"]))\n",
    "plt.plot(minmax_scaler.inverse_transform(output_l))\n",
    "\n",
    "# plt.plot(testpredict_plt)\n",
    "plt.legend()\n",
    "plt.show()\n",
    "# actual_price_30days_df.to_csv(\"Resources/TSLA.csv\")"
   ]
  }
 ],
 "metadata": {
  "kernelspec": {
   "display_name": "Python 3.9 (tensorflow)",
   "language": "python",
   "name": "tensorflow"
  },
  "language_info": {
   "codemirror_mode": {
    "name": "ipython",
    "version": 3
   },
   "file_extension": ".py",
   "mimetype": "text/x-python",
   "name": "python",
   "nbconvert_exporter": "python",
   "pygments_lexer": "ipython3",
   "version": "3.9.13"
  }
 },
 "nbformat": 4,
 "nbformat_minor": 5
}
