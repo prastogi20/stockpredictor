{
 "cells": [
  {
   "cell_type": "code",
   "execution_count": null,
   "id": "11d1a658-b8a1-420e-9392-c44926bf9793",
   "metadata": {},
   "outputs": [],
   "source": [
    "import numpy as np\n",
    "import pandas as pd\n",
    "import matplotlib.pyplot as plt\n",
    "\n",
    "from sklearn.preprocessing import MinMaxScaler\n",
    "from keras.models import Sequential\n",
    "from keras.layers import Dense,LSTM\n",
    "from sklearn.metrics import mean_squared_error\n"
   ]
  },
  {
   "cell_type": "code",
   "execution_count": null,
   "id": "190aca5f-1468-467a-b9c6-09bb19135b7a",
   "metadata": {},
   "outputs": [],
   "source": [
    "# %run PrepareData.ipynb"
   ]
  },
  {
   "cell_type": "code",
   "execution_count": null,
   "id": "480f41b7-dc4d-488d-bc97-3df9a1066ce5",
   "metadata": {},
   "outputs": [],
   "source": [
    "tsla_stock_values_df.info()"
   ]
  },
  {
   "cell_type": "code",
   "execution_count": null,
   "id": "6bb6251f-fcc0-40e3-80bf-ae6f3fb64654",
   "metadata": {},
   "outputs": [],
   "source": [
    "tsla_feature_df = tsla_stock_values_df[\"close_value\"]\n",
    "tsla_feature_df.info()"
   ]
  },
  {
   "cell_type": "code",
   "execution_count": null,
   "id": "44bd36d1-7e7f-4bec-a298-fdc867203cc9",
   "metadata": {},
   "outputs": [],
   "source": [
    "tsla_feature_df.plot()"
   ]
  },
  {
   "cell_type": "code",
   "execution_count": null,
   "id": "48d5542b-ce83-4345-ae33-814f64f4dcbb",
   "metadata": {},
   "outputs": [],
   "source": [
    "minmax_scaler = MinMaxScaler(feature_range = (0,1))\n",
    "tsla_feature_df = minmax_scaler.fit_transform(np.array(tsla_feature_df).reshape(-1,1))\n",
    "tsla_feature_df"
   ]
  },
  {
   "cell_type": "code",
   "execution_count": null,
   "id": "befafbed-3959-49d3-b2b3-775fb24aa623",
   "metadata": {},
   "outputs": [],
   "source": [
    "# This function is used to pre-process the data, where in we are converting data into dependent and independent data based on timestamp\n",
    "def create_model_dataset(dataset,time_step):\n",
    "    XData, YData = [],[]    \n",
    "    for i in range(len(dataset)-time_step-1):\n",
    "        t = i + time_step\n",
    "        data = dataset[i : i+time_step,0]\n",
    "        XData.append(data)        \n",
    "        YData.append(dataset[i+time_step,0])\n",
    "    return np.array(XData),np.array(YData)   \n"
   ]
  },
  {
   "cell_type": "code",
   "execution_count": null,
   "id": "cd41a034-b689-4f87-8866-da764ae855a4",
   "metadata": {},
   "outputs": [],
   "source": [
    "train_data_size = int (len(tsla_feature_df) * .65)\n",
    "test_data_size = len(tsla_feature_df) - train_data_size\n",
    "\n",
    "# print(train_data_size)\n",
    "# print(test_data_size)\n",
    "# print(train_data_size + test_data_size)\n",
    "train_data, test_data = tsla_feature_df[0:train_data_size,:],tsla_feature_df[train_data_size:len(tsla_feature_df),:1 ]\n",
    "\n",
    "time_step = 200\n",
    "X_train, y_train = create_model_dataset(train_data,time_step)\n",
    "X_test, y_test = create_model_dataset(test_data,time_step)\n",
    "\n",
    "X_train"
   ]
  },
  {
   "cell_type": "code",
   "execution_count": null,
   "id": "a88d60bd-00c1-4233-8772-260055764c06",
   "metadata": {},
   "outputs": [],
   "source": [
    "# for LSTM we need to reshape our X_train and X_test to be [samples, time steps and batch_size]\n",
    "X_train = X_train.reshape(X_train.shape[0],X_train.shape[1],1)\n",
    "X_test = X_test.reshape(X_test.shape[0],X_test.shape[1],1)"
   ]
  },
  {
   "cell_type": "code",
   "execution_count": null,
   "id": "d521ecfb-3728-4ebd-992f-b5b959bded9c",
   "metadata": {},
   "outputs": [],
   "source": [
    "# Create LSTM model\n",
    "model = Sequential()\n",
    "model.add(LSTM(50,return_sequences=True,input_shape=(200,1)))\n",
    "model.add(LSTM(50,return_sequences=True))\n",
    "model.add(LSTM(50))\n",
    "model.add(Dense(1))\n",
    "model.compile(loss='mean_squared_error',optimizer= 'adam')\n",
    "model.summary()"
   ]
  },
  {
   "cell_type": "code",
   "execution_count": null,
   "id": "c8fafbe2-adf2-4648-b126-c76208c3958a",
   "metadata": {},
   "outputs": [],
   "source": [
    "model.fit(X_train,y_train,validation_data=(X_test,y_test), epochs=100,batch_size=64,verbose=1)"
   ]
  },
  {
   "cell_type": "code",
   "execution_count": null,
   "id": "77e7504e-eda5-4ce3-8658-3a077c6e8343",
   "metadata": {},
   "outputs": [],
   "source": [
    "# Prediction\n",
    "train_predict = model.predict(X_train)\n",
    "test_predict = model.predict(X_test)\n"
   ]
  },
  {
   "cell_type": "code",
   "execution_count": null,
   "id": "4352d94e-4410-4f22-ab9c-faba6c1d896e",
   "metadata": {},
   "outputs": [],
   "source": [
    "#Transform predicted data to original form\n",
    "train_predict = minmax_scaler.inverse_transform(train_predict)\n",
    "test_predict= minmax_scaler.inverse_transform(test_predict)"
   ]
  },
  {
   "cell_type": "code",
   "execution_count": null,
   "id": "0fb70857-2ed8-406a-aab7-14da88ba5b66",
   "metadata": {},
   "outputs": [],
   "source": [
    "# Calculate RMSE for both train and test data\n",
    "import math\n",
    "math.sqrt(mean_squared_error(y_train,train_predict))"
   ]
  },
  {
   "cell_type": "code",
   "execution_count": null,
   "id": "dd8d40ff-54a9-439c-a2f6-b30b815b1884",
   "metadata": {},
   "outputs": [],
   "source": [
    "math.sqrt(mean_squared_error(y_test,test_predict))"
   ]
  },
  {
   "cell_type": "code",
   "execution_count": null,
   "id": "2d217a8f-4ca0-439a-bf9f-aac94b2d7c96",
   "metadata": {},
   "outputs": [],
   "source": [
    "# Plot for comparing actual data with train predictions, test predictons\n",
    "# as we considers time step of 100, going back 100 days to better visualistion\n",
    "\n",
    "back_time = 200\n",
    "# shift train predictions\n",
    "\n",
    "trainpredict_plt = np.empty_like(tsla_feature_df)\n",
    "trainpredict_plt[:,:] = np.nan\n",
    "trainpredict_plt[back_time: len(train_predict) + back_time ,: ] = train_predict\n",
    "\n",
    "# shift test predictions\n",
    "testpredict_plt = np.empty_like(tsla_feature_df)\n",
    "testpredict_plt[:,:] = np.nan\n",
    "testpredict_plt[len(train_predict)+(back_time*2)+1: len(tsla_feature_df)-1,: ] = test_predict\n",
    "\n",
    "plt.plot(minmax_scaler.inverse_transform(tsla_feature_df))\n",
    "plt.plot(trainpredict_plt)\n",
    "plt.plot(testpredict_plt)\n",
    "plt.legend()\n",
    "plt.show()"
   ]
  },
  {
   "cell_type": "code",
   "execution_count": null,
   "id": "beeecf33-b00f-4c0e-9a98-c3f78dc5a503",
   "metadata": {},
   "outputs": [],
   "source": []
  }
 ],
 "metadata": {
  "kernelspec": {
   "display_name": "Python 3.9 (tensorflow)",
   "language": "python",
   "name": "tensorflow"
  },
  "language_info": {
   "codemirror_mode": {
    "name": "ipython",
    "version": 3
   },
   "file_extension": ".py",
   "mimetype": "text/x-python",
   "name": "python",
   "nbconvert_exporter": "python",
   "pygments_lexer": "ipython3",
   "version": "3.9.13"
  }
 },
 "nbformat": 4,
 "nbformat_minor": 5
}
